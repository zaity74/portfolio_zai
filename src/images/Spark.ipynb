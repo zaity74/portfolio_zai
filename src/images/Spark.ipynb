{
 "cells": [
  {
   "cell_type": "markdown",
   "id": "e9182a66",
   "metadata": {},
   "source": [
    "# Projet Apache Spark : Analyse des données climatiques mondiales"
   ]
  },
  {
   "cell_type": "markdown",
   "id": "b597f527",
   "metadata": {},
   "source": [
    "## Objectif :\n",
    "Analyser les tendances climatiques mondiales à l'aide de Spark, y compris le nettoyage des données, l'EDA et l'extraction d'informations."
   ]
  },
  {
   "cell_type": "markdown",
   "id": "4d3a44b6",
   "metadata": {},
   "source": [
    "### Jeu de données :\n",
    "[Global Surface Summary of the Day (GSOD) provenant de NOAA](https://www.ncei.noaa.gov/access/metadata/landing-page/bin/iso?id=gov.noaa.ncdc:C00516)\n"
   ]
  },
  {
   "cell_type": "markdown",
   "id": "56df410b",
   "metadata": {},
   "source": [
    "---\n",
    "## Exploration du jeu de données\n"
   ]
  },
  {
   "cell_type": "code",
   "execution_count": 6,
   "id": "3a65a50b-31d8-4cfd-97e6-6029ba86aae6",
   "metadata": {},
   "outputs": [
    {
     "name": "stdout",
     "output_type": "stream",
     "text": [
      "Collecting aiohttp\n",
      "  Downloading aiohttp-3.11.7-cp311-cp311-manylinux_2_17_x86_64.manylinux2014_x86_64.whl.metadata (7.7 kB)\n",
      "Collecting aiohappyeyeballs>=2.3.0 (from aiohttp)\n",
      "  Downloading aiohappyeyeballs-2.4.3-py3-none-any.whl.metadata (6.1 kB)\n",
      "Collecting aiosignal>=1.1.2 (from aiohttp)\n",
      "  Downloading aiosignal-1.3.1-py3-none-any.whl.metadata (4.0 kB)\n",
      "Requirement already satisfied: attrs>=17.3.0 in /opt/conda/lib/python3.11/site-packages (from aiohttp) (23.1.0)\n",
      "Collecting frozenlist>=1.1.1 (from aiohttp)\n",
      "  Downloading frozenlist-1.5.0-cp311-cp311-manylinux_2_5_x86_64.manylinux1_x86_64.manylinux_2_17_x86_64.manylinux2014_x86_64.whl.metadata (13 kB)\n",
      "Collecting multidict<7.0,>=4.5 (from aiohttp)\n",
      "  Downloading multidict-6.1.0-cp311-cp311-manylinux_2_17_x86_64.manylinux2014_x86_64.whl.metadata (5.0 kB)\n",
      "Collecting propcache>=0.2.0 (from aiohttp)\n",
      "  Downloading propcache-0.2.0-cp311-cp311-manylinux_2_17_x86_64.manylinux2014_x86_64.whl.metadata (7.7 kB)\n",
      "Collecting yarl<2.0,>=1.17.0 (from aiohttp)\n",
      "  Downloading yarl-1.18.0-cp311-cp311-manylinux_2_17_x86_64.manylinux2014_x86_64.whl.metadata (67 kB)\n",
      "\u001b[2K     \u001b[90m━━━━━━━━━━━━━━━━━━━━━━━━━━━━━━━━━━━━━━━━\u001b[0m \u001b[32m67.7/67.7 kB\u001b[0m \u001b[31m2.3 MB/s\u001b[0m eta \u001b[36m0:00:00\u001b[0m\n",
      "\u001b[?25hRequirement already satisfied: idna>=2.0 in /opt/conda/lib/python3.11/site-packages (from yarl<2.0,>=1.17.0->aiohttp) (3.4)\n",
      "Downloading aiohttp-3.11.7-cp311-cp311-manylinux_2_17_x86_64.manylinux2014_x86_64.whl (1.7 MB)\n",
      "\u001b[2K   \u001b[90m━━━━━━━━━━━━━━━━━━━━━━━━━━━━━━━━━━━━━━━━\u001b[0m \u001b[32m1.7/1.7 MB\u001b[0m \u001b[31m8.6 MB/s\u001b[0m eta \u001b[36m0:00:00\u001b[0m:00:01\u001b[0m0:01\u001b[0m\n",
      "\u001b[?25hDownloading aiohappyeyeballs-2.4.3-py3-none-any.whl (14 kB)\n",
      "Downloading aiosignal-1.3.1-py3-none-any.whl (7.6 kB)\n",
      "Downloading frozenlist-1.5.0-cp311-cp311-manylinux_2_5_x86_64.manylinux1_x86_64.manylinux_2_17_x86_64.manylinux2014_x86_64.whl (274 kB)\n",
      "\u001b[2K   \u001b[90m━━━━━━━━━━━━━━━━━━━━━━━━━━━━━━━━━━━━━━━━\u001b[0m \u001b[32m274.9/274.9 kB\u001b[0m \u001b[31m8.5 MB/s\u001b[0m eta \u001b[36m0:00:00\u001b[0m\n",
      "\u001b[?25hDownloading multidict-6.1.0-cp311-cp311-manylinux_2_17_x86_64.manylinux2014_x86_64.whl (129 kB)\n",
      "\u001b[2K   \u001b[90m━━━━━━━━━━━━━━━━━━━━━━━━━━━━━━━━━━━━━━━━\u001b[0m \u001b[32m129.0/129.0 kB\u001b[0m \u001b[31m10.1 MB/s\u001b[0m eta \u001b[36m0:00:00\u001b[0m\n",
      "\u001b[?25hDownloading propcache-0.2.0-cp311-cp311-manylinux_2_17_x86_64.manylinux2014_x86_64.whl (236 kB)\n",
      "\u001b[2K   \u001b[90m━━━━━━━━━━━━━━━━━━━━━━━━━━━━━━━━━━━━━━━━\u001b[0m \u001b[32m236.0/236.0 kB\u001b[0m \u001b[31m9.8 MB/s\u001b[0m eta \u001b[36m0:00:00\u001b[0m\n",
      "\u001b[?25hDownloading yarl-1.18.0-cp311-cp311-manylinux_2_17_x86_64.manylinux2014_x86_64.whl (343 kB)\n",
      "\u001b[2K   \u001b[90m━━━━━━━━━━━━━━━━━━━━━━━━━━━━━━━━━━━━━━━━\u001b[0m \u001b[32m343.9/343.9 kB\u001b[0m \u001b[31m9.2 MB/s\u001b[0m eta \u001b[36m0:00:00\u001b[0m:00:01\u001b[0m\n",
      "\u001b[?25hInstalling collected packages: propcache, multidict, frozenlist, aiohappyeyeballs, yarl, aiosignal, aiohttp\n",
      "Successfully installed aiohappyeyeballs-2.4.3 aiohttp-3.11.7 aiosignal-1.3.1 frozenlist-1.5.0 multidict-6.1.0 propcache-0.2.0 yarl-1.18.0\n",
      "Note: you may need to restart the kernel to use updated packages.\n"
     ]
    }
   ],
   "source": [
    "pip install aiohttp"
   ]
  },
  {
   "cell_type": "code",
   "execution_count": 7,
   "id": "312724fb-6bf9-4ce0-a4a1-da4f03057887",
   "metadata": {},
   "outputs": [
    {
     "name": "stdout",
     "output_type": "stream",
     "text": [
      "Collecting aiofiles\n",
      "  Downloading aiofiles-24.1.0-py3-none-any.whl.metadata (10 kB)\n",
      "Requirement already satisfied: tqdm in /opt/conda/lib/python3.11/site-packages (4.66.1)\n",
      "Requirement already satisfied: nest_asyncio in /opt/conda/lib/python3.11/site-packages (1.5.8)\n",
      "Requirement already satisfied: certifi in /opt/conda/lib/python3.11/site-packages (2023.7.22)\n",
      "Downloading aiofiles-24.1.0-py3-none-any.whl (15 kB)\n",
      "Installing collected packages: aiofiles\n",
      "Successfully installed aiofiles-24.1.0\n",
      "Note: you may need to restart the kernel to use updated packages.\n"
     ]
    }
   ],
   "source": [
    "pip install aiofiles tqdm nest_asyncio certifi"
   ]
  },
  {
   "cell_type": "code",
   "execution_count": 22,
   "id": "77a385e1",
   "metadata": {},
   "outputs": [],
   "source": [
    "# Import \n",
    "from pyspark.sql import SparkSession\n",
    "from pyspark.sql.types import *\n",
    "from pyspark.sql import functions as F\n",
    "from pyspark.sql.types import *\n",
    "from pyspark.sql.functions import udf\n",
    "from pyspark.sql.window import Window\n",
    "from pyspark.sql.types import TimestampType\n",
    "from datetime import datetime\n",
    "import os\n",
    "import pandas as pd\n",
    "import requests\n",
    "from bs4 import BeautifulSoup\n",
    "import asyncio\n",
    "import aiohttp\n",
    "import aiofiles\n",
    "import os\n",
    "from bs4 import BeautifulSoup\n",
    "from tqdm.asyncio import tqdm\n",
    "import nest_asyncio\n",
    "import certifi\n",
    "import ssl\n",
    "import matplotlib.pyplot as plt\n",
    "import gc"
   ]
  },
  {
   "cell_type": "markdown",
   "id": "8bbdf487-9f3a-49e5-9342-656d0cc4abea",
   "metadata": {
    "jp-MarkdownHeadingCollapsed": true
   },
   "source": [
    "### Create Spark Session"
   ]
  },
  {
   "cell_type": "code",
   "execution_count": 38,
   "id": "7125f841",
   "metadata": {},
   "outputs": [
    {
     "name": "stdout",
     "output_type": "stream",
     "text": [
      "Session Spark créée avec succès ! <pyspark.sql.session.SparkSession object at 0x7f347c260a50>\n"
     ]
    }
   ],
   "source": [
    "# Create session \n",
    "# Création d'une session Spark\n",
    "spark = SparkSession.builder \\\n",
    "    .appName(\"Analyse des logs des cyclistes\") \\\n",
    "    .getOrCreate()\n",
    "\n",
    "print(\"Session Spark créée avec succès !\", spark) "
   ]
  },
  {
   "cell_type": "markdown",
   "id": "b692d366-ddfc-44c4-a506-9ed87064b0a9",
   "metadata": {
    "jp-MarkdownHeadingCollapsed": true
   },
   "source": [
    "### Affichage des données "
   ]
  },
  {
   "cell_type": "code",
   "execution_count": 39,
   "id": "ae49c784",
   "metadata": {
    "scrolled": true
   },
   "outputs": [],
   "source": [
    "# Charger les données\n",
    "data_path = \"/home/jovyan/climate_analyses/data/sample.csv\""
   ]
  },
  {
   "cell_type": "markdown",
   "id": "78459e15-22da-43aa-bfa0-1b967c04c10e",
   "metadata": {},
   "source": [
    "#### 1er tableau d'affichage"
   ]
  },
  {
   "cell_type": "code",
   "execution_count": 64,
   "id": "ac91b893-b9cf-49eb-8d2a-6578851f99eb",
   "metadata": {},
   "outputs": [
    {
     "name": "stdout",
     "output_type": "stream",
     "text": [
      "+-----------+----------+--------+---------+---------+--------------------+----+---------------+----+---------------+------+--------------+-----+--------------+-----+----------------+----+---------------+-----+-----+----+--------------+----+--------------+----+---------------+-----+------+\n",
      "|    STATION|      DATE|LATITUDE|LONGITUDE|ELEVATION|                NAME|TEMP|TEMP_ATTRIBUTES|DEWP|DEWP_ATTRIBUTES|   SLP|SLP_ATTRIBUTES|  STP|STP_ATTRIBUTES|VISIB|VISIB_ATTRIBUTES|WDSP|WDSP_ATTRIBUTES|MXSPD| GUST| MAX|MAX_ATTRIBUTES| MIN|MIN_ATTRIBUTES|PRCP|PRCP_ATTRIBUTES| SNDP|FRSHTT|\n",
      "+-----------+----------+--------+---------+---------+--------------------+----+---------------+----+---------------+------+--------------+-----+--------------+-----+----------------+----+---------------+-----+-----+----+--------------+----+--------------+----+---------------+-----+------+\n",
      "|72565003017|2018-01-01| 39.8328|-104.6575|   1650.2|DENVER INTERNATIO...|11.6|             24| 5.5|             24|1030.9|            24|839.1|            24|  7.1|              24| 5.0|             24|  9.9|999.9|28.0|              | 3.0|              | 0.0|              G|999.9|  1000|\n",
      "|72565003017|2018-01-02| 39.8328|-104.6575|   1650.2|DENVER INTERNATIO...|21.2|             24| 7.3|             24|1029.4|            24|839.0|            24|  7.7|              24| 5.6|             24|  9.9|999.9|43.0|              | 3.0|              | 0.0|              G|999.9|     0|\n",
      "|72565003017|2018-01-03| 39.8328|-104.6575|   1650.2|DENVER INTERNATIO...|31.8|             24| 3.0|             24|1026.7|            24|839.3|            24| 10.0|              24| 9.7|             24| 15.9| 24.1|53.1|              |10.9|              | 0.0|              G|999.9|     0|\n",
      "|72565003017|2018-01-04| 39.8328|-104.6575|   1650.2|DENVER INTERNATIO...|34.6|             24|11.6|             24|1022.0|            24|836.5|            24| 10.0|              24| 6.5|             24|  8.9|999.9|53.1|              |17.1|              | 0.0|              G|999.9|     0|\n",
      "|72565003017|2018-01-05| 39.8328|-104.6575|   1650.2|DENVER INTERNATIO...|36.3|             24|11.4|             24|1020.9|            24|835.9|            24| 10.0|              24| 6.7|             24| 14.0|999.9|55.9|              |23.0|              | 0.0|              G|999.9|     0|\n",
      "+-----------+----------+--------+---------+---------+--------------------+----+---------------+----+---------------+------+--------------+-----+--------------+-----+----------------+----+---------------+-----+-----+----+--------------+----+--------------+----+---------------+-----+------+\n",
      "only showing top 5 rows\n",
      "\n"
     ]
    }
   ],
   "source": [
    "# Charger les données CSV dans un DataFrame\n",
    "df = spark.read.csv(data_path, header=True, inferSchema=True)\n",
    "\n",
    "# df = spark.read.csv('chemin/vers/dataset.csv', header=True, inferSchema=True)\n",
    "# Afficher les 5 premières lignes pour vérifier\n",
    "df.show(5)"
   ]
  },
  {
   "cell_type": "markdown",
   "id": "7e7f4fdf-c97b-48dc-a510-b4276f3233d5",
   "metadata": {},
   "source": [
    "#### 2ème tableau d'affichage"
   ]
  },
  {
   "cell_type": "code",
   "execution_count": 41,
   "id": "3863f264-5852-4f90-876d-3ddeedaf7264",
   "metadata": {},
   "outputs": [
    {
     "name": "stdout",
     "output_type": "stream",
     "text": [
      "Premières lignes de chaque colonne :\n",
      "STATION: 72565003017\n",
      "DATE: 2018-01-01\n",
      "LATITUDE: 39.8328\n",
      "LONGITUDE: -104.6575\n",
      "ELEVATION: 1650.2\n",
      "NAME: DENVER INTERNATIONAL AIRPORT, CO US\n",
      "TEMP: 11.6\n",
      "TEMP_ATTRIBUTES: 24\n",
      "DEWP: 5.5\n",
      "DEWP_ATTRIBUTES: 24\n",
      "SLP: 1030.9\n",
      "SLP_ATTRIBUTES: 24\n",
      "STP: 839.1\n",
      "STP_ATTRIBUTES: 24\n",
      "VISIB: 7.1\n",
      "VISIB_ATTRIBUTES: 24\n",
      "WDSP: 5.0\n",
      "WDSP_ATTRIBUTES: 24\n",
      "MXSPD: 9.9\n",
      "GUST: 999.9\n",
      "MAX: 28.0\n",
      "MAX_ATTRIBUTES:  \n",
      "MIN: 3.0\n",
      "MIN_ATTRIBUTES:  \n",
      "PRCP: 0.0\n",
      "PRCP_ATTRIBUTES: G\n",
      "SNDP: 999.9\n",
      "FRSHTT: 1000\n"
     ]
    }
   ],
   "source": [
    "# Récupérer la première ligne du DataFrame\n",
    "first_row = df.first()\n",
    "\n",
    "# Afficher les premières valeurs de chaque colonne horizontalement\n",
    "print(\"Premières lignes de chaque colonne :\")\n",
    "for col_name in df.columns:\n",
    "    print(f\"{col_name}: {first_row[col_name]}\")"
   ]
  },
  {
   "cell_type": "markdown",
   "id": "5472d84c-bace-4633-806e-14be0c4a6ba9",
   "metadata": {
    "jp-MarkdownHeadingCollapsed": true
   },
   "source": [
    "#### Explication des Colonnes\r\n",
    "\r\n",
    "##### Identifiants de la Station et Date\r\n",
    "- **STATION** : L'identifiant unique de la station météorologique (souvent un code WMO ou NOAA).\r\n",
    "- **DATE** : La date de l'enregistrement, au format AAAA-MMJJ.\r\n",
    "#\r\n",
    "#### Coordonnées Géographiques\r\n",
    "- **LATITUDE** : Latitude de la station météorologique en degrés décimaux.\r\n",
    "- **LONGITUDE** : Longitude de la station météorologique en degrés décimaux.\r\n",
    "- **ELEVATION** : Altitude de la station en mètres au-dessus du niveau de la m#er.\r\n",
    "\r\n",
    "#### Informations sur la Station\r\n",
    "- **NAME** : Le nom de la station météorologique, généralement accompagné de sa localisation (ville, région ou #pays).\r\n",
    "\r\n",
    "#### Température et Attributs\r\n",
    "- **TEMP** : Température moyenne de l'air pour la journée, en degrés Celsius.\r\n",
    "- **TEMP_ATTRIBUTES** : Indicateur qualitatif ou nombre d'observations utilisées pour calculer la températur#e moyenne.\r\n",
    "\r\n",
    "#### Température du Point de Rosée\r\n",
    "- **DEWP** : Température moyenne du point de rosée pour la journée, en degrés Celsius.\r\n",
    "- **DEWP_ATTRIBUTES** : Indicateur qualitatif ou nombre d'observations utilisées pour calculer la température du p#oint de rosée.\r\n",
    "\r\n",
    "#### Pression Atmosphérique\r\n",
    "- **SLP (Sea Level Pressure)** : Pression moyenne au niveau de la mer, en hPa (hectopascals).\r\n",
    "- **SLP_ATTRIBUTES** : Indicateur qualitatif ou nombre d'observations pour la pression au niveau de la mer.\r\n",
    "- **STP (Station Pressure)** : Pression atmosphérique moyenne mesurée à la station, en hPa.\r\n",
    "- **STP_ATTRIBUTES** : Indicateur qualitatif ou nombre d'observations pour la pr#ession à la station.\r\n",
    "\r\n",
    "#### Visibilité\r\n",
    "- **VISIB** : Visibilité moyenne de la journée, en kilomètres.\r\n",
    "- **VISIB_ATTRIBUTES** : Indicateur qualitatif ou nombre d'observat#ions pour la visibilité.\r\n",
    "\r\n",
    "#### Vent\r\n",
    "- **WDSP (Wind Speed)** : Vitesse moyenne du vent sur la journée, en mètres par seconde.\r\n",
    "- **WDSP_ATTRIBUTES** : Indicateur qualitatif ou nombre d'observations pour la vitesse du vent.\r\n",
    "- **MXSPD (Max Speed)** : Vitesse maximale du vent enregistrée, en mètres par seconde.\r\n",
    "- **GUST** : Rafales de vent maximales enregistrées, en mètres par seconde (si disponible). La valeur \"999.9\" peu#####diquer des données manquantes.\r\n",
    "\r\n",
    "#### Températures Maximales et Minimales\r\n",
    "- **MAX** : Température maximale enregistrée dans la journée, en degrés Celsius.\r\n",
    "- **MAX_ATTRIBUTES** : Attributs ou indicateurs qualitatifs pour la température maximale.\r\n",
    "- **MIN** : Température minimale enregistrée dans la journée, en degrés Celsius.\r\n",
    "- **MIN_ATTRIBUTES** : Attributs ou indicateurs q#####tatifs pour la température minimale.\r\n",
    "\r\n",
    "#### Précipitations et Neige\r\n",
    "- **PRCP (Precipitation)** : Précipitations totales de la journée, en millimètres. La valeur \"0.0\" indique aucune précipitation.\r\n",
    "- **PRCP_ATTRIBUTES** : Indicateur qualitatif pour les précipitations (par exemple, \"G\" peut signifier \"estimé\").\r\n",
    "- **SNDP (Snow Depth)** : Profondeur de la neige en centimètres. La valeur #####.9\" peut indiquer des données manquantes.\r\n",
    "\r\n",
    "#### Conditions Météorologiques Spécifiques\r\n",
    "- **FRSHTT** : Indicateur codé des événements météorologiques de la journée. Il est généralement représenté par une séquence de chiffres binaires indiquant :\r\n",
    "  - **F** : Brouillard (Fog).\r\n",
    "  - **R** : Pluie ou bruine (Rain/Drizzle).\r\n",
    "  - **S** : Neige (Snow).\r\n",
    "  - **H** : Grêle (Hail).\r\n",
    "  - **T** : Orages (Thunderstorms).\r\n",
    "  - **T** : Tornades ou vents violents (Tornado).\r\n",
    "\r\n",
    "  Par exemple, **FRSHTT = iquement.\r\n",
    "\r\n",
    "---\r\n",
    "\r\n",
    "### Exemple Interprété\r\n",
    "Pour votre ligne :\r\n"
   ]
  },
  {
   "cell_type": "markdown",
   "id": "0a1716ac-e4be-488b-bed3-3d50410d51c5",
   "metadata": {
    "jp-MarkdownHeadingCollapsed": true
   },
   "source": [
    "## **Questions 1 :**\r\n",
    "1. Combien d'enregistrements contient le jeu de données \r\n",
    "2. Quels sont les noms et types de colonnes ?\r\n",
    "3. Combien de stations météorologiques uniques sont présentes ?"
   ]
  },
  {
   "cell_type": "markdown",
   "id": "cc5b20b2-e7eb-44f8-9928-b2800daa0f71",
   "metadata": {
    "jp-MarkdownHeadingCollapsed": true
   },
   "source": [
    "## Réponse aux questions 1"
   ]
  },
  {
   "cell_type": "markdown",
   "id": "48dfb82d-d8e3-4156-b867-cebcecc417ce",
   "metadata": {},
   "source": [
    "### 1 - Nombre d'enregisitrements : "
   ]
  },
  {
   "cell_type": "code",
   "execution_count": 46,
   "id": "a87f62a9-3e1c-4457-ab3c-67947dde8ad3",
   "metadata": {},
   "outputs": [
    {
     "name": "stdout",
     "output_type": "stream",
     "text": [
      "Le jeu de données contient 365 enregistrements.\n"
     ]
    }
   ],
   "source": [
    "# Calculer le nombre d'enregistrements dans le DataFrame\n",
    "total_enregistrements = df.count()\n",
    "print(f\"Le jeu de données contient {total_enregistrements} enregistrements.\")"
   ]
  },
  {
   "cell_type": "markdown",
   "id": "b950653f-cd1c-45a1-9482-a56470a52205",
   "metadata": {
    "jp-MarkdownHeadingCollapsed": true
   },
   "source": [
    "### 2 - Noms et types de colonnes : "
   ]
  },
  {
   "cell_type": "code",
   "execution_count": 48,
   "id": "c7b0b703-727b-4d6a-aef3-925a8cb7a02f",
   "metadata": {},
   "outputs": [
    {
     "name": "stdout",
     "output_type": "stream",
     "text": [
      "Noms et types des colonnes :\n",
      "- STATION: bigint\n",
      "- DATE: date\n",
      "- LATITUDE: double\n",
      "- LONGITUDE: double\n",
      "- ELEVATION: double\n",
      "- NAME: string\n",
      "- TEMP: double\n",
      "- TEMP_ATTRIBUTES: int\n",
      "- DEWP: double\n",
      "- DEWP_ATTRIBUTES: int\n",
      "- SLP: double\n",
      "- SLP_ATTRIBUTES: int\n",
      "- STP: double\n",
      "- STP_ATTRIBUTES: int\n",
      "- VISIB: double\n",
      "- VISIB_ATTRIBUTES: int\n",
      "- WDSP: double\n",
      "- WDSP_ATTRIBUTES: int\n",
      "- MXSPD: double\n",
      "- GUST: double\n",
      "- MAX: double\n",
      "- MAX_ATTRIBUTES: string\n",
      "- MIN: double\n",
      "- MIN_ATTRIBUTES: string\n",
      "- PRCP: double\n",
      "- PRCP_ATTRIBUTES: string\n",
      "- SNDP: double\n",
      "- FRSHTT: int\n",
      "Le nombre total de colonnes dans le DataFrame est : 28\n"
     ]
    }
   ],
   "source": [
    "# Afficher les noms et types des colonnes\n",
    "columns_and_types = df.dtypes\n",
    "print(\"Noms et types des colonnes :\")\n",
    "for col_name, col_type in columns_and_types:\n",
    "    print(f\"- {col_name}: {col_type}\")\n",
    "\n",
    "# Calculer le nombre total de colonnes\n",
    "total_columns = len(df.columns)\n",
    "print(f\"Le nombre total de colonnes dans le DataFrame est : {total_columns}\")"
   ]
  },
  {
   "cell_type": "markdown",
   "id": "d0253632-3f42-4a6f-a74a-50a45233614c",
   "metadata": {
    "jp-MarkdownHeadingCollapsed": true
   },
   "source": [
    "### 3 - Nombres de stations métérologique uniques : "
   ]
  },
  {
   "cell_type": "code",
   "execution_count": 56,
   "id": "85ec44d8-7dc3-4193-b24d-59b7766b1058",
   "metadata": {},
   "outputs": [
    {
     "name": "stdout",
     "output_type": "stream",
     "text": [
      "Nombre de stations météorologiques uniques : 1\n",
      "Nombre d'enregistrements pour chaque station :\n",
      "Station : 72565003017 - Nombre d'enregistrements : 365\n"
     ]
    }
   ],
   "source": [
    "# Récupérer les stations météorologiques uniques\n",
    "unique_stations_df = df.select(\"STATION\").distinct()\n",
    "\n",
    "# Nombre de stations uniques\n",
    "unique_stations_count = unique_stations_df.count()\n",
    "print(f\"Nombre de stations météorologiques uniques : {unique_stations_count}\")\n",
    "\n",
    "# Compter le nombre de lignes associées à chaque station unique\n",
    "print(\"Nombre d'enregistrements pour chaque station :\")\n",
    "for station in unique_stations_df.collect():\n",
    "    station_id = station['STATION']\n",
    "    count = df.filter(df[\"STATION\"] == station_id).count()\n",
    "    print(f\"Station : {station_id} - Nombre d'enregistrements : {count}\")"
   ]
  },
  {
   "cell_type": "markdown",
   "id": "99cf9add",
   "metadata": {
    "jp-MarkdownHeadingCollapsed": true
   },
   "source": [
    "---\n",
    "## Nettoyage des données\n"
   ]
  },
  {
   "cell_type": "markdown",
   "id": "323ba697-ce0f-460b-a7dd-81a5fe300c28",
   "metadata": {},
   "source": [
    "### Identifier les colonnes avec des valeurs manquantes et les traiter"
   ]
  },
  {
   "cell_type": "markdown",
   "id": "65826a0d-15de-4f91-8621-82e4c2073c89",
   "metadata": {
    "jp-MarkdownHeadingCollapsed": true
   },
   "source": [
    "#### Sql - Indentification et affichage des colonnes avec valeurs manquantes "
   ]
  },
  {
   "cell_type": "code",
   "execution_count": 68,
   "id": "b7c32a44-5851-47f9-b302-b5d96a0b3027",
   "metadata": {},
   "outputs": [
    {
     "name": "stdout",
     "output_type": "stream",
     "text": [
      "Nombre de valeurs nulles par colonne :\n",
      "+-------+----+--------+---------+---------+----+----+---------------+----+---------------+---+--------------+---+--------------+-----+----------------+----+---------------+-----+----+---+--------------+---+--------------+----+---------------+----+------+\n",
      "|STATION|DATE|LATITUDE|LONGITUDE|ELEVATION|NAME|TEMP|TEMP_ATTRIBUTES|DEWP|DEWP_ATTRIBUTES|SLP|SLP_ATTRIBUTES|STP|STP_ATTRIBUTES|VISIB|VISIB_ATTRIBUTES|WDSP|WDSP_ATTRIBUTES|MXSPD|GUST|MAX|MAX_ATTRIBUTES|MIN|MIN_ATTRIBUTES|PRCP|PRCP_ATTRIBUTES|SNDP|FRSHTT|\n",
      "+-------+----+--------+---------+---------+----+----+---------------+----+---------------+---+--------------+---+--------------+-----+----------------+----+---------------+-----+----+---+--------------+---+--------------+----+---------------+----+------+\n",
      "|0      |0   |0       |0        |0        |0   |0   |0              |0   |0              |1  |0             |0  |0             |0    |0               |0   |0              |0    |110 |0  |0             |0  |0             |0   |0              |347 |0     |\n",
      "+-------+----+--------+---------+---------+----+----+---------------+----+---------------+---+--------------+---+--------------+-----+----------------+----+---------------+-----+----+---+--------------+---+--------------+----+---------------+----+------+\n",
      "\n",
      "Colonne avec le plus de valeurs nulles :\n",
      "                  null_count\n",
      "SNDP                     347\n",
      "GUST                     110\n",
      "SLP                        1\n",
      "STATION                    0\n",
      "VISIB_ATTRIBUTES           0\n",
      "PRCP_ATTRIBUTES            0\n",
      "PRCP                       0\n",
      "MIN_ATTRIBUTES             0\n",
      "MIN                        0\n",
      "MAX_ATTRIBUTES             0\n",
      "MAX                        0\n",
      "MXSPD                      0\n",
      "WDSP_ATTRIBUTES            0\n",
      "WDSP                       0\n",
      "VISIB                      0\n",
      "DATE                       0\n",
      "STP_ATTRIBUTES             0\n",
      "STP                        0\n",
      "SLP_ATTRIBUTES             0\n",
      "DEWP_ATTRIBUTES            0\n",
      "DEWP                       0\n",
      "TEMP_ATTRIBUTES            0\n",
      "TEMP                       0\n",
      "NAME                       0\n",
      "ELEVATION                  0\n",
      "LONGITUDE                  0\n",
      "LATITUDE                   0\n",
      "FRSHTT                     0\n"
     ]
    }
   ],
   "source": [
    "from pyspark.sql.functions import col, sum, when\n",
    "\n",
    "# Calculer le nombre de valeurs nulles pour chaque colonne\n",
    "null_counts = df.select(\n",
    "    [sum(when(col(c).isNull() | col(c).contains(\"NaN\"), 1).otherwise(0)).alias(c) for c in df.columns]\n",
    ")\n",
    "\n",
    "# Afficher le nombre de valeurs nulles par colonne\n",
    "print(\"Nombre de valeurs nulles par colonne :\")\n",
    "null_counts.show(truncate=False)\n",
    "\n",
    "# Trouver la colonne avec le plus de valeurs nulles\n",
    "null_counts_pd = null_counts.toPandas().transpose()  # Convertir en Pandas pour une manipulation facile\n",
    "null_counts_pd.columns = [\"null_count\"]\n",
    "null_counts_pd = null_counts_pd.sort_values(by=\"null_count\", ascending=False)\n",
    "\n",
    "print(\"Colonne avec le plus de valeurs nulles :\")\n",
    "print(null_counts_pd)"
   ]
  },
  {
   "cell_type": "markdown",
   "id": "abaad2d7-8ff6-4308-9d5f-c6fc5e6fb430",
   "metadata": {
    "jp-MarkdownHeadingCollapsed": true
   },
   "source": [
    "#### Traitement des valeurs manquantes "
   ]
  },
  {
   "cell_type": "code",
   "execution_count": 70,
   "id": "1ac8290a-2de2-437a-84c6-80baf149b97a",
   "metadata": {},
   "outputs": [
    {
     "name": "stdout",
     "output_type": "stream",
     "text": [
      "Colonnes après conversion et nettoyage :\n",
      "root\n",
      " |-- STATION: long (nullable = true)\n",
      " |-- DATE: date (nullable = true)\n",
      " |-- LATITUDE: double (nullable = true)\n",
      " |-- LONGITUDE: double (nullable = true)\n",
      " |-- ELEVATION: double (nullable = true)\n",
      " |-- NAME: string (nullable = true)\n",
      " |-- TEMP: double (nullable = true)\n",
      " |-- TEMP_ATTRIBUTES: integer (nullable = true)\n",
      " |-- DEWP: double (nullable = true)\n",
      " |-- DEWP_ATTRIBUTES: integer (nullable = true)\n",
      " |-- SLP: double (nullable = true)\n",
      " |-- SLP_ATTRIBUTES: integer (nullable = true)\n",
      " |-- STP: double (nullable = true)\n",
      " |-- STP_ATTRIBUTES: integer (nullable = true)\n",
      " |-- VISIB: double (nullable = true)\n",
      " |-- VISIB_ATTRIBUTES: integer (nullable = true)\n",
      " |-- WDSP: double (nullable = true)\n",
      " |-- WDSP_ATTRIBUTES: integer (nullable = true)\n",
      " |-- MXSPD: double (nullable = true)\n",
      " |-- GUST: double (nullable = true)\n",
      " |-- MAX: double (nullable = true)\n",
      " |-- MAX_ATTRIBUTES: string (nullable = true)\n",
      " |-- MIN: double (nullable = true)\n",
      " |-- MIN_ATTRIBUTES: string (nullable = true)\n",
      " |-- PRCP: double (nullable = true)\n",
      " |-- PRCP_ATTRIBUTES: string (nullable = true)\n",
      " |-- SNDP: double (nullable = true)\n",
      " |-- FRSHTT: integer (nullable = true)\n",
      "\n",
      "Aperçu des données après conversion et remplacement des valeurs spéciales :\n",
      "+-----------+----------+--------+---------+---------+-----------------------------------+----+---------------+----+---------------+------+--------------+-----+--------------+-----+----------------+----+---------------+-----+----+----+--------------+----+--------------+----+---------------+----+------+\n",
      "|STATION    |DATE      |LATITUDE|LONGITUDE|ELEVATION|NAME                               |TEMP|TEMP_ATTRIBUTES|DEWP|DEWP_ATTRIBUTES|SLP   |SLP_ATTRIBUTES|STP  |STP_ATTRIBUTES|VISIB|VISIB_ATTRIBUTES|WDSP|WDSP_ATTRIBUTES|MXSPD|GUST|MAX |MAX_ATTRIBUTES|MIN |MIN_ATTRIBUTES|PRCP|PRCP_ATTRIBUTES|SNDP|FRSHTT|\n",
      "+-----------+----------+--------+---------+---------+-----------------------------------+----+---------------+----+---------------+------+--------------+-----+--------------+-----+----------------+----+---------------+-----+----+----+--------------+----+--------------+----+---------------+----+------+\n",
      "|72565003017|2018-01-22|39.8328 |-104.6575|1650.2   |DENVER INTERNATIONAL AIRPORT, CO US|26.1|24             |11.1|24             |1017.5|24            |830.8|24            |9.1  |24              |11.4|24             |27.0 |32.1|44.1|              |9.0 |              |0.23|G              |1.2 |1000  |\n",
      "|72565003017|2018-01-25|39.8328 |-104.6575|1650.2   |DENVER INTERNATIONAL AIRPORT, CO US|42.4|24             |15.2|24             |1013.5|24            |830.8|24            |10.0 |24              |14.0|24             |25.1 |33.0|54.0|*             |34.0|*             |0.0 |G              |3.1 |0     |\n",
      "|72565003017|2018-01-26|39.8328 |-104.6575|1650.2   |DENVER INTERNATIONAL AIRPORT, CO US|35.9|24             |12.5|24             |1008.6|24            |826.5|24            |10.0 |24              |10.7|24             |25.1 |33.0|54.0|              |25.0|              |0.0 |G              |2.0 |0     |\n",
      "|72565003017|2018-02-23|39.8328 |-104.6575|1650.2   |DENVER INTERNATIONAL AIRPORT, CO US|20.8|24             |16.8|24             |1019.5|13            |831.8|24            |3.1  |24              |6.2 |24             |17.1 |20.0|35.1|              |8.1 |              |0.02|G              |1.2 |101000|\n",
      "|72565003017|2018-02-24|39.8328 |-104.6575|1650.2   |DENVER INTERNATIONAL AIRPORT, CO US|26.9|24             |13.9|24             |1010.6|17            |826.1|24            |5.8  |24              |12.7|24             |27.0 |38.1|36.0|              |8.1 |              |0.0 |G              |1.2 |100000|\n",
      "+-----------+----------+--------+---------+---------+-----------------------------------+----+---------------+----+---------------+------+--------------+-----+--------------+-----+----------------+----+---------------+-----+----+----+--------------+----+--------------+----+---------------+----+------+\n",
      "only showing top 5 rows\n",
      "\n"
     ]
    }
   ],
   "source": [
    "# Traitement des valeurs manquantes\n",
    "# 1. Supprimer les lignes avec des valeurs manquantes\n",
    "df_cleaned = df.dropna(how=\"all\")\n",
    "df_cleaned = df_cleaned.dropna(subset=[\"SNDP\", \"GUST\"])\n",
    "\n",
    "# Colonnes numériques continues\n",
    "numeric_columns = [\n",
    "    \"LATITUDE\", \"LONGITUDE\", \"ELEVATION\", \"TEMP\", \"DEWP\", \"SLP\", \"STP\", \n",
    "    \"VISIB\", \"WDSP\", \"MXSPD\", \"MAX\", \"MIN\", \"PRCP\"\n",
    "]\n",
    "\n",
    "# Colonnes numériques discrètes\n",
    "integer_columns = [\n",
    "    \"TEMP_ATTRIBUTES\", \"DEWP_ATTRIBUTES\", \"SLP_ATTRIBUTES\", \"STP_ATTRIBUTES\", \n",
    "    \"VISIB_ATTRIBUTES\", \"WDSP_ATTRIBUTES\", \"FRSHTT\"\n",
    "]\n",
    "\n",
    "# Colonnes catégoriques\n",
    "categorical_columns = [\"MAX_ATTRIBUTES\", \"MIN_ATTRIBUTES\", \"PRCP_ATTRIBUTES\", \"NAME\"]\n",
    "\n",
    "# Remplacer les valeurs spéciales comme 999.9 par null\n",
    "for col_name in numeric_columns:\n",
    "    df_cleaned = df_cleaned.withColumn(col_name, when(col(col_name) == 999.9, None).otherwise(col(col_name)))\n",
    "\n",
    "# Caster les colonnes numériques continues en double\n",
    "for col_name in numeric_columns:\n",
    "    df_cleaned = df_cleaned.withColumn(col_name, col(col_name).cast(\"double\"))\n",
    "\n",
    "# Caster les colonnes numériques discrètes en entier\n",
    "for col_name in integer_columns:\n",
    "    df_cleaned = df_cleaned.withColumn(col_name, col(col_name).cast(\"int\"))\n",
    "\n",
    "# Caster les colonnes catégoriques en string\n",
    "for col_name in categorical_columns:\n",
    "    df_cleaned = df_cleaned.withColumn(col_name, col(col_name).cast(\"string\"))\n",
    "\n",
    "# Vérifier les conversions\n",
    "print(\"Colonnes après conversion et nettoyage :\")\n",
    "df_cleaned.printSchema()\n",
    "\n",
    "# Afficher un aperçu des données nettoyées\n",
    "print(\"Aperçu des données après conversion et remplacement des valeurs spéciales :\")\n",
    "df_cleaned.show(5, truncate=False)"
   ]
  },
  {
   "cell_type": "markdown",
   "id": "61e112c3-4db5-46f0-9407-a7eeb4f5d937",
   "metadata": {},
   "source": [
    "#### Affichage des résultats"
   ]
  },
  {
   "cell_type": "code",
   "execution_count": 71,
   "id": "ae0cb563-e487-4659-9b28-674c0aa467be",
   "metadata": {},
   "outputs": [
    {
     "name": "stdout",
     "output_type": "stream",
     "text": [
      "DataFrame après suppression des lignes avec des valeurs manquantes :\n",
      "Nombre de lignes après suppression : 7\n",
      "+-----------+----------+--------+---------+---------+-----------------------------------+----+---------------+----+---------------+------+--------------+-----+--------------+-----+----------------+----+---------------+-----+----+----+--------------+----+--------------+----+---------------+----+------+\n",
      "|STATION    |DATE      |LATITUDE|LONGITUDE|ELEVATION|NAME                               |TEMP|TEMP_ATTRIBUTES|DEWP|DEWP_ATTRIBUTES|SLP   |SLP_ATTRIBUTES|STP  |STP_ATTRIBUTES|VISIB|VISIB_ATTRIBUTES|WDSP|WDSP_ATTRIBUTES|MXSPD|GUST|MAX |MAX_ATTRIBUTES|MIN |MIN_ATTRIBUTES|PRCP|PRCP_ATTRIBUTES|SNDP|FRSHTT|\n",
      "+-----------+----------+--------+---------+---------+-----------------------------------+----+---------------+----+---------------+------+--------------+-----+--------------+-----+----------------+----+---------------+-----+----+----+--------------+----+--------------+----+---------------+----+------+\n",
      "|72565003017|2018-01-22|39.8328 |-104.6575|1650.2   |DENVER INTERNATIONAL AIRPORT, CO US|26.1|24             |11.1|24             |1017.5|24            |830.8|24            |9.1  |24              |11.4|24             |27.0 |32.1|44.1|              |9.0 |              |0.23|G              |1.2 |1000  |\n",
      "|72565003017|2018-01-25|39.8328 |-104.6575|1650.2   |DENVER INTERNATIONAL AIRPORT, CO US|42.4|24             |15.2|24             |1013.5|24            |830.8|24            |10.0 |24              |14.0|24             |25.1 |33.0|54.0|*             |34.0|*             |0.0 |G              |3.1 |0     |\n",
      "|72565003017|2018-01-26|39.8328 |-104.6575|1650.2   |DENVER INTERNATIONAL AIRPORT, CO US|35.9|24             |12.5|24             |1008.6|24            |826.5|24            |10.0 |24              |10.7|24             |25.1 |33.0|54.0|              |25.0|              |0.0 |G              |2.0 |0     |\n",
      "|72565003017|2018-02-23|39.8328 |-104.6575|1650.2   |DENVER INTERNATIONAL AIRPORT, CO US|20.8|24             |16.8|24             |1019.5|13            |831.8|24            |3.1  |24              |6.2 |24             |17.1 |20.0|35.1|              |8.1 |              |0.02|G              |1.2 |101000|\n",
      "|72565003017|2018-02-24|39.8328 |-104.6575|1650.2   |DENVER INTERNATIONAL AIRPORT, CO US|26.9|24             |13.9|24             |1010.6|17            |826.1|24            |5.8  |24              |12.7|24             |27.0 |38.1|36.0|              |8.1 |              |0.0 |G              |1.2 |100000|\n",
      "+-----------+----------+--------+---------+---------+-----------------------------------+----+---------------+----+---------------+------+--------------+-----+--------------+-----+----------------+----+---------------+-----+----+----+--------------+----+--------------+----+---------------+----+------+\n",
      "only showing top 5 rows\n",
      "\n",
      "DataFrame après remplissage des valeurs manquantes :\n",
      "Nombre de lignes après remplissage : 365\n",
      "+-----------+----------+--------+---------+---------+-----------------------------------+----+---------------+----+---------------+------+--------------+-----+--------------+-----+----------------+----+---------------+-----+-----+----+--------------+----+--------------+----+---------------+-----+------+\n",
      "|STATION    |DATE      |LATITUDE|LONGITUDE|ELEVATION|NAME                               |TEMP|TEMP_ATTRIBUTES|DEWP|DEWP_ATTRIBUTES|SLP   |SLP_ATTRIBUTES|STP  |STP_ATTRIBUTES|VISIB|VISIB_ATTRIBUTES|WDSP|WDSP_ATTRIBUTES|MXSPD|GUST |MAX |MAX_ATTRIBUTES|MIN |MIN_ATTRIBUTES|PRCP|PRCP_ATTRIBUTES|SNDP |FRSHTT|\n",
      "+-----------+----------+--------+---------+---------+-----------------------------------+----+---------------+----+---------------+------+--------------+-----+--------------+-----+----------------+----+---------------+-----+-----+----+--------------+----+--------------+----+---------------+-----+------+\n",
      "|72565003017|2018-01-01|39.8328 |-104.6575|1650.2   |DENVER INTERNATIONAL AIRPORT, CO US|11.6|24             |5.5 |24             |1030.9|24            |839.1|24            |7.1  |24              |5.0 |24             |9.9  |999.9|28.0|              |3.0 |              |0.0 |G              |999.9|1000  |\n",
      "|72565003017|2018-01-02|39.8328 |-104.6575|1650.2   |DENVER INTERNATIONAL AIRPORT, CO US|21.2|24             |7.3 |24             |1029.4|24            |839.0|24            |7.7  |24              |5.6 |24             |9.9  |999.9|43.0|              |3.0 |              |0.0 |G              |999.9|0     |\n",
      "|72565003017|2018-01-03|39.8328 |-104.6575|1650.2   |DENVER INTERNATIONAL AIRPORT, CO US|31.8|24             |3.0 |24             |1026.7|24            |839.3|24            |10.0 |24              |9.7 |24             |15.9 |24.1 |53.1|              |10.9|              |0.0 |G              |999.9|0     |\n",
      "|72565003017|2018-01-04|39.8328 |-104.6575|1650.2   |DENVER INTERNATIONAL AIRPORT, CO US|34.6|24             |11.6|24             |1022.0|24            |836.5|24            |10.0 |24              |6.5 |24             |8.9  |999.9|53.1|              |17.1|              |0.0 |G              |999.9|0     |\n",
      "|72565003017|2018-01-05|39.8328 |-104.6575|1650.2   |DENVER INTERNATIONAL AIRPORT, CO US|36.3|24             |11.4|24             |1020.9|24            |835.9|24            |10.0 |24              |6.7 |24             |14.0 |999.9|55.9|              |23.0|              |0.0 |G              |999.9|0     |\n",
      "+-----------+----------+--------+---------+---------+-----------------------------------+----+---------------+----+---------------+------+--------------+-----+--------------+-----+----------------+----+---------------+-----+-----+----+--------------+----+--------------+----+---------------+-----+------+\n",
      "only showing top 5 rows\n",
      "\n"
     ]
    }
   ],
   "source": [
    "# Afficher le résultat des DataFrames traités\n",
    "print(\"DataFrame après suppression des lignes avec des valeurs manquantes :\")\n",
    "print(f\"Nombre de lignes après suppression : {df_cleaned.count()}\")\n",
    "df_cleaned.show(5, truncate=False)\n",
    "\n",
    "print(\"DataFrame après remplissage des valeurs manquantes :\")\n",
    "print(f\"Nombre de lignes après remplissage : {df_filled.count()}\")\n",
    "df_filled.show(5, truncate=False)"
   ]
  },
  {
   "cell_type": "markdown",
   "id": "f91ce04e-725a-46e1-b89c-8a53ff05ab12",
   "metadata": {
    "jp-MarkdownHeadingCollapsed": true
   },
   "source": [
    "## **Questions 2 :**\n",
    "1. Quelles colonnes ont le plus de valeurs manquantes ?\r\n",
    "2. Après nettoyage, combien d'enregistrements restent ?\r\n",
    "3. Quelle technique avez-vous utilisée pour traiter les valeurs manquantes dans la colonne des précipitations ?"
   ]
  },
  {
   "cell_type": "markdown",
   "id": "a55b7b89-7b55-46dd-b398-40387decb2c0",
   "metadata": {},
   "source": [
    "## Réponse aux questions 2"
   ]
  },
  {
   "cell_type": "markdown",
   "id": "ddabf99b-ddfb-4eff-b429-44a460d12a1c",
   "metadata": {},
   "source": [
    "### 1 - Colonnes avec le plus de valeurs manquantes : "
   ]
  },
  {
   "cell_type": "code",
   "execution_count": 74,
   "id": "17c1b861-0b2d-4a8b-98b6-3c84ec740cd3",
   "metadata": {},
   "outputs": [
    {
     "name": "stdout",
     "output_type": "stream",
     "text": [
      "Colonne avec le plus de valeurs nulles : SNDP (347 valeurs nulles)\n"
     ]
    }
   ],
   "source": [
    "# Calculer le nombre de valeurs nulles pour chaque colonne\n",
    "null_counts = df.select(\n",
    "    [sum(when(col(c).isNull() | col(c).contains(\"NaN\"), 1).otherwise(0)).alias(c) for c in df.columns]\n",
    ")\n",
    "\n",
    "# Trouver la colonne avec le plus de valeurs nulles\n",
    "null_counts_transposed = null_counts.collect()[0].asDict()  # Convertir en dictionnaire\n",
    "max_null_column = max(null_counts_transposed, key=null_counts_transposed.get)  # Trouver la clé avec la valeur maximale\n",
    "\n",
    "print(f\"Colonne avec le plus de valeurs nulles : {max_null_column} ({null_counts_transposed[max_null_column]} valeurs nulles)\")"
   ]
  },
  {
   "cell_type": "markdown",
   "id": "ce1e0e3b-7d34-40ad-90e7-921cedbee5b1",
   "metadata": {},
   "source": [
    "### 2 - Nombres d\"enregistrement apres nettoyage : "
   ]
  },
  {
   "cell_type": "code",
   "execution_count": 79,
   "id": "5e642b75-8e55-4f7e-ba17-c1135d506e88",
   "metadata": {},
   "outputs": [
    {
     "name": "stdout",
     "output_type": "stream",
     "text": [
      "DataFrame après suppression des lignes avec des valeurs manquantes :\n",
      "Nombre total d'enregistrements après suppression : 7\n",
      "\n",
      "DataFrame après remplissage des valeurs manquantes :\n",
      "Nombre total d'enregistrements après remplissage : 365\n"
     ]
    }
   ],
   "source": [
    "# Afficher le résultat après suppression des lignes avec des valeurs manquantes\n",
    "print(\"DataFrame après suppression des lignes avec des valeurs manquantes :\")\n",
    "total_after_dropna = df_cleaned.count()\n",
    "print(f\"Nombre total d'enregistrements après suppression : {total_after_dropna}\")\n",
    "\n",
    "# Afficher le résultat après remplissage des valeurs manquantes\n",
    "print(\"\\nDataFrame après remplissage des valeurs manquantes :\")\n",
    "total_after_fillna = df_filled.count()\n",
    "print(f\"Nombre total d'enregistrements après remplissage : {total_after_fillna}\")"
   ]
  },
  {
   "cell_type": "markdown",
   "id": "6789fcea-a63f-4a9e-a1f6-4acbc6662fec",
   "metadata": {},
   "source": [
    "### 3 - Technique utilisés pour traiter les valeurs manquantes : "
   ]
  },
  {
   "cell_type": "markdown",
   "id": "889f00bf-f3a4-4530-8c50-c52f839c7464",
   "metadata": {},
   "source": [
    "#### Traitement des valeurs manquantes dans la colonne PRCP (précipitations)\r\n",
    "\r\n",
    "Pour traiter les valeurs manquantes dans la colonne **PRCP (précipitations)**, nous avons utilisé ces étapes :\r\n",
    "\r\n",
    "1. **Remplacement des valeurs spéciales (999.9)** : \r\n",
    "   - Les valeurs `999.9` ont été remplacées par `null` pour identifier les données manquantes.\r\n",
    "\r\n",
    "2. **Imputation par la moyenne** :\r\n",
    "   - Les valeurs manquantes ont été remplacées par la moyenne des précipitations non nulles.\r\n",
    "\r\n",
    "3. **Ajout d’un indicateur (`PRCP_missing`)** :\r\n",
    "   - Une colonne binaire a été ajoutée pour signaler si une valeur était initialement manquante (`1`) ou non (`0`).\r\n"
   ]
  },
  {
   "cell_type": "markdown",
   "id": "6b3c32d6",
   "metadata": {},
   "source": [
    "---\n",
    "## Transformation des données\n"
   ]
  },
  {
   "cell_type": "code",
   "execution_count": 81,
   "id": "7476c0ba",
   "metadata": {},
   "outputs": [],
   "source": [
    "# Transformer le jeu de données\n",
    "# Ajouter de nouvelles colonnes pour l'année, le mois, le jour\n",
    "#df_transformed = df_cleaned.withColumn('year', F.year(F.col('date')))\n",
    "# Classifier les jours chauds\n",
    "#df_transformed = df_transformed.withColumn('is_hot', F.col('temperature') > 30)"
   ]
  },
  {
   "cell_type": "markdown",
   "id": "17cfaab9",
   "metadata": {},
   "source": [
    "## **Questions 3 :**\n",
    "1. Quels sont les 5 premiers enregistrements après le parsing de la colonne `date` ?\n",
    "2. Combien de jours ont été classés comme 'chauds' ?\n",
    "3. Quelles transformations ont été appliquées au jeu de données ?"
   ]
  },
  {
   "cell_type": "markdown",
   "id": "9cb54583-a172-48ba-ba43-1f4d69a2908b",
   "metadata": {},
   "source": [
    "## Réponse aux questions 3"
   ]
  },
  {
   "cell_type": "markdown",
   "id": "8bbc5926-28ba-4739-ba8a-76b65c7fe934",
   "metadata": {
    "jp-MarkdownHeadingCollapsed": true
   },
   "source": [
    "### 1 - 5 premiers enregistrements apres parsing de date : "
   ]
  },
  {
   "cell_type": "code",
   "execution_count": 82,
   "id": "a473178e-cc3c-4cbf-bd87-be739133b0a7",
   "metadata": {},
   "outputs": [
    {
     "name": "stdout",
     "output_type": "stream",
     "text": [
      "1. Les 5 premiers enregistrements après parsing de la colonne `DATE` :\n",
      "+-----------+----------+--------+---------+---------+-----------------------------------+----+---------------+----+---------------+------+--------------+-----+--------------+-----+----------------+----+---------------+-----+----+----+--------------+----+--------------+----+---------------+----+------+\n",
      "|STATION    |DATE      |LATITUDE|LONGITUDE|ELEVATION|NAME                               |TEMP|TEMP_ATTRIBUTES|DEWP|DEWP_ATTRIBUTES|SLP   |SLP_ATTRIBUTES|STP  |STP_ATTRIBUTES|VISIB|VISIB_ATTRIBUTES|WDSP|WDSP_ATTRIBUTES|MXSPD|GUST|MAX |MAX_ATTRIBUTES|MIN |MIN_ATTRIBUTES|PRCP|PRCP_ATTRIBUTES|SNDP|FRSHTT|\n",
      "+-----------+----------+--------+---------+---------+-----------------------------------+----+---------------+----+---------------+------+--------------+-----+--------------+-----+----------------+----+---------------+-----+----+----+--------------+----+--------------+----+---------------+----+------+\n",
      "|72565003017|2018-01-01|39.8328 |-104.6575|1650.2   |DENVER INTERNATIONAL AIRPORT, CO US|11.6|24             |5.5 |24             |1030.9|24            |839.1|24            |7.1  |24              |5.0 |24             |9.9  |NULL|28.0|              |3.0 |              |0.0 |G              |NULL|1000  |\n",
      "|72565003017|2018-01-02|39.8328 |-104.6575|1650.2   |DENVER INTERNATIONAL AIRPORT, CO US|21.2|24             |7.3 |24             |1029.4|24            |839.0|24            |7.7  |24              |5.6 |24             |9.9  |NULL|43.0|              |3.0 |              |0.0 |G              |NULL|0     |\n",
      "|72565003017|2018-01-03|39.8328 |-104.6575|1650.2   |DENVER INTERNATIONAL AIRPORT, CO US|31.8|24             |3.0 |24             |1026.7|24            |839.3|24            |10.0 |24              |9.7 |24             |15.9 |24.1|53.1|              |10.9|              |0.0 |G              |NULL|0     |\n",
      "|72565003017|2018-01-04|39.8328 |-104.6575|1650.2   |DENVER INTERNATIONAL AIRPORT, CO US|34.6|24             |11.6|24             |1022.0|24            |836.5|24            |10.0 |24              |6.5 |24             |8.9  |NULL|53.1|              |17.1|              |0.0 |G              |NULL|0     |\n",
      "|72565003017|2018-01-05|39.8328 |-104.6575|1650.2   |DENVER INTERNATIONAL AIRPORT, CO US|36.3|24             |11.4|24             |1020.9|24            |835.9|24            |10.0 |24              |6.7 |24             |14.0 |NULL|55.9|              |23.0|              |0.0 |G              |NULL|0     |\n",
      "+-----------+----------+--------+---------+---------+-----------------------------------+----+---------------+----+---------------+------+--------------+-----+--------------+-----+----------------+----+---------------+-----+----+----+--------------+----+--------------+----+---------------+----+------+\n",
      "only showing top 5 rows\n",
      "\n"
     ]
    }
   ],
   "source": [
    "from pyspark.sql.functions import col, to_date, mean\n",
    "\n",
    "##### 1. Parsing de la colonne `date` en type Date\n",
    "df = df.withColumn(\"DATE\", to_date(col(\"DATE\"), \"yyyy-MM-dd\"))\n",
    "\n",
    "##### Afficher les 5 premiers enregistrements après parsing de la colonne DATE\n",
    "print(\"1. Les 5 premiers enregistrements après parsing de la colonne `DATE` :\")\n",
    "df.show(5, truncate=False)\n"
   ]
  },
  {
   "cell_type": "markdown",
   "id": "3d0806a8-d9ef-4a1f-8bff-38c6c40637ee",
   "metadata": {
    "jp-MarkdownHeadingCollapsed": true
   },
   "source": [
    "### 2 - Nombres de jours classés comme chaud : "
   ]
  },
  {
   "cell_type": "code",
   "execution_count": 84,
   "id": "eaf42f2f-04fa-416c-a7be-c45481b8bb18",
   "metadata": {},
   "outputs": [
    {
     "name": "stdout",
     "output_type": "stream",
     "text": [
      "2. Nombre de jours classés comme 'chauds' : 359\n"
     ]
    }
   ],
   "source": [
    "# 2. Définir les jours \"chauds\" comme ceux où la température maximale (MAX) est supérieure à un seuil (exemple : 30°C)\n",
    "hot_days = df.filter(col(\"MAX\") > 30).count()\n",
    "print(f\"2. Nombre de jours classés comme 'chauds' : {hot_days}\")"
   ]
  },
  {
   "cell_type": "markdown",
   "id": "f787b132-ab01-4f43-b2b6-292e723cd91f",
   "metadata": {
    "jp-MarkdownHeadingCollapsed": true
   },
   "source": [
    "### 3 - Transformation appliqués au jeu de données : "
   ]
  },
  {
   "cell_type": "code",
   "execution_count": 86,
   "id": "331212da-e659-4f4a-962a-3298c55f39c8",
   "metadata": {},
   "outputs": [
    {
     "name": "stdout",
     "output_type": "stream",
     "text": [
      "3. Transformations appliquées au jeu de données :\n",
      "\n",
      "1. Parsing de la colonne `DATE` pour la convertir en format DateTime.\n",
      "2. Remplacement des valeurs spéciales (ex : 999.9) par `null` pour les colonnes numériques.\n",
      "3. Imputation des valeurs manquantes (ex : moyenne pour `PRCP`).\n",
      "4. Ajout d'une colonne binaire `PRCP_missing` pour signaler les valeurs imputées.\n",
      "5. Conversion des types de colonnes (ex : cast des colonnes numériques en `double` et des colonnes discrètes en `int`).\n",
      "\n"
     ]
    }
   ],
   "source": [
    "print(\"3. Transformations appliquées au jeu de données :\")\n",
    "transformations = \"\"\"\n",
    "1. Parsing de la colonne `DATE` pour la convertir en format DateTime.\n",
    "2. Remplacement des valeurs spéciales (ex : 999.9) par `null` pour les colonnes numériques.\n",
    "3. Imputation des valeurs manquantes (ex : moyenne pour `PRCP`).\n",
    "4. Ajout d'une colonne binaire `PRCP_missing` pour signaler les valeurs imputées.\n",
    "5. Conversion des types de colonnes (ex : cast des colonnes numériques en `double` et des colonnes discrètes en `int`).\n",
    "\"\"\"\n",
    "print(transformations)"
   ]
  },
  {
   "cell_type": "markdown",
   "id": "a46cda7b",
   "metadata": {},
   "source": [
    "---\n",
    "##  Analyse exploratoire des données (EDA)\n"
   ]
  },
  {
   "cell_type": "code",
   "execution_count": null,
   "id": "12eeaeff",
   "metadata": {},
   "outputs": [],
   "source": [
    "# Calculer les moyennes annuelles et autres statistiques\n",
    "# avg_temp_by_year = df_transformed.groupBy('year').avg('temperature')\n",
    "# avg_temp_by_year.show()"
   ]
  },
  {
   "cell_type": "markdown",
   "id": "e459ceea",
   "metadata": {
    "jp-MarkdownHeadingCollapsed": true
   },
   "source": [
    "## **Questions 4 :**\n",
    "1. Quelle est la température moyenne mondiale pour 2020 ?\n",
    "2. Quelles sont les 5 stations ayant enregistré les températures moyennes les plus élevées, et où sont-elles situées ?\n",
    "3. Comment les précipitations mondiales ont-elles changé au cours des 50 dernières années ?"
   ]
  },
  {
   "cell_type": "markdown",
   "id": "9af74ce9-fbce-4a5c-847a-8c1f24282433",
   "metadata": {},
   "source": [
    "## Réponse aux questions 4"
   ]
  },
  {
   "cell_type": "markdown",
   "id": "03c46b4b-df42-4af2-b46a-d6850fc49912",
   "metadata": {
    "jp-MarkdownHeadingCollapsed": true
   },
   "source": [
    "### Téléchargement des fichiers par date"
   ]
  },
  {
   "cell_type": "code",
   "execution_count": 9,
   "id": "a3901fdc-ccef-4986-89b6-73582cbe9889",
   "metadata": {},
   "outputs": [
    {
     "name": "stderr",
     "output_type": "stream",
     "text": [
      "Récupération des URLs par année: 100%|██████████| 96/96 [06:22<00:00,  3.99s/it]\n"
     ]
    },
    {
     "name": "stdout",
     "output_type": "stream",
     "text": [
      "Nombre total de fichiers à télécharger : 582776\n"
     ]
    },
    {
     "name": "stderr",
     "output_type": "stream",
     "text": [
      "Téléchargement des fichiers:  90%|█████████ | 524808/582776 [1:21:59<21:03, 45.87it/s]  "
     ]
    },
    {
     "name": "stdout",
     "output_type": "stream",
     "text": [
      "Erreur lors du téléchargement de https://www.ncei.noaa.gov/data/global-summary-of-the-day/access/1996/74230024037.csv: Response payload is not completed: <ContentLengthError: 400, message='Not enough data for satisfy content length header.'>\n",
      "Erreur lors du téléchargement de https://www.ncei.noaa.gov/data/global-summary-of-the-day/access/1957/99999913973.csv: Response payload is not completed: <ContentLengthError: 400, message='Not enough data for satisfy content length header.'>\n",
      "Erreur lors du téléchargement de https://www.ncei.noaa.gov/data/global-summary-of-the-day/access/2024/95718099999.csv: Response payload is not completed: <ContentLengthError: 400, message='Not enough data for satisfy content length header.'>\n"
     ]
    },
    {
     "name": "stderr",
     "output_type": "stream",
     "text": [
      "Téléchargement des fichiers:  90%|█████████ | 525387/582776 [1:22:14<21:49, 43.83it/s]"
     ]
    },
    {
     "name": "stdout",
     "output_type": "stream",
     "text": [
      "Erreur lors du téléchargement de https://www.ncei.noaa.gov/data/global-summary-of-the-day/access/2000/72646699999.csv: Response payload is not completed: <ContentLengthError: 400, message='Not enough data for satisfy content length header.'>\n",
      "Erreur lors du téléchargement de https://www.ncei.noaa.gov/data/global-summary-of-the-day/access/2024/24261099999.csv: Response payload is not completed: <ContentLengthError: 400, message='Not enough data for satisfy content length header.'>\n"
     ]
    },
    {
     "name": "stderr",
     "output_type": "stream",
     "text": [
      "Téléchargement des fichiers:  90%|█████████ | 526404/582776 [1:22:43<20:27, 45.92it/s]  "
     ]
    },
    {
     "name": "stdout",
     "output_type": "stream",
     "text": [
      "Erreur lors du téléchargement de https://www.ncei.noaa.gov/data/global-summary-of-the-day/access/2000/72646599999.csv: Response payload is not completed: <ContentLengthError: 400, message='Not enough data for satisfy content length header.'>\n"
     ]
    },
    {
     "name": "stderr",
     "output_type": "stream",
     "text": [
      "Téléchargement des fichiers:  90%|█████████ | 526410/582776 [1:22:44<27:12, 34.54it/s]"
     ]
    },
    {
     "name": "stdout",
     "output_type": "stream",
     "text": [
      "Erreur lors du téléchargement de https://www.ncei.noaa.gov/data/global-summary-of-the-day/access/1975/25568099999.csv: Response payload is not completed: <ContentLengthError: 400, message='Not enough data for satisfy content length header.'>\n",
      "Erreur lors du téléchargement de https://www.ncei.noaa.gov/data/global-summary-of-the-day/access/1979/47581099999.csv: Response payload is not completed: <ContentLengthError: 400, message='Not enough data for satisfy content length header.'>\n",
      "Erreur lors du téléchargement de https://www.ncei.noaa.gov/data/global-summary-of-the-day/access/1996/74207024201.csv: Response payload is not completed: <ContentLengthError: 400, message='Not enough data for satisfy content length header.'>\n"
     ]
    },
    {
     "name": "stderr",
     "output_type": "stream",
     "text": [
      "Téléchargement des fichiers:  93%|█████████▎| 543125/582776 [1:29:42<07:18, 90.37it/s]  "
     ]
    },
    {
     "name": "stdout",
     "output_type": "stream",
     "text": [
      "Erreur lors du téléchargement de https://www.ncei.noaa.gov/data/global-summary-of-the-day/access/1985/40416099999.csv: Response payload is not completed: <ContentLengthError: 400, message='Not enough data for satisfy content length header.'>\n",
      "Erreur lors du téléchargement de https://www.ncei.noaa.gov/data/global-summary-of-the-day/access/2005/15480099999.csv: Response payload is not completed: <ContentLengthError: 400, message='Not enough data for satisfy content length header.'>\n"
     ]
    },
    {
     "name": "stderr",
     "output_type": "stream",
     "text": [
      "Téléchargement des fichiers:  94%|█████████▎| 546024/582776 [1:30:26<08:06, 75.50it/s]"
     ]
    },
    {
     "name": "stdout",
     "output_type": "stream",
     "text": [
      "Erreur lors du téléchargement de https://www.ncei.noaa.gov/data/global-summary-of-the-day/access/2005/15530099999.csv: Response payload is not completed: <ContentLengthError: 400, message='Not enough data for satisfy content length header.'>\n",
      "Erreur lors du téléchargement de https://www.ncei.noaa.gov/data/global-summary-of-the-day/access/2020/99999903033.csv: Response payload is not completed: <ContentLengthError: 400, message='Not enough data for satisfy content length header.'>\n",
      "Erreur lors du téléchargement de https://www.ncei.noaa.gov/data/global-summary-of-the-day/access/2024/99400799999.csv: Response payload is not completed: <ContentLengthError: 400, message='Not enough data for satisfy content length header.'>\n",
      "Erreur lors du téléchargement de https://www.ncei.noaa.gov/data/global-summary-of-the-day/access/1979/47759099999.csv: Response payload is not completed: <ContentLengthError: 400, message='Not enough data for satisfy content length header.'>\n",
      "Erreur lors du téléchargement de https://www.ncei.noaa.gov/data/global-summary-of-the-day/access/1985/47542099999.csv: Response payload is not completed: <ContentLengthError: 400, message='Not enough data for satisfy content length header.'>\n"
     ]
    },
    {
     "name": "stderr",
     "output_type": "stream",
     "text": [
      "Téléchargement des fichiers:  94%|█████████▎| 546043/582776 [1:30:27<08:51, 69.11it/s]"
     ]
    },
    {
     "name": "stdout",
     "output_type": "stream",
     "text": [
      "Erreur lors du téléchargement de https://www.ncei.noaa.gov/data/global-summary-of-the-day/access/1964/40582099999.csv: Response payload is not completed: <ContentLengthError: 400, message='Not enough data for satisfy content length header.'>\n",
      "Erreur lors du téléchargement de https://www.ncei.noaa.gov/data/global-summary-of-the-day/access/1965/62336099999.csv: Response payload is not completed: <ContentLengthError: 400, message='Not enough data for satisfy content length header.'>\n",
      "Erreur lors du téléchargement de https://www.ncei.noaa.gov/data/global-summary-of-the-day/access/2018/41140099999.csv: Response payload is not completed: <ContentLengthError: 400, message='Not enough data for satisfy content length header.'>\n",
      "Erreur lors du téléchargement de https://www.ncei.noaa.gov/data/global-summary-of-the-day/access/2005/15533099999.csv: Response payload is not completed: <ContentLengthError: 400, message='Not enough data for satisfy content length header.'>\n",
      "Erreur lors du téléchargement de https://www.ncei.noaa.gov/data/global-summary-of-the-day/access/2009/72510514770.csv: Response payload is not completed: <ContentLengthError: 400, message='Not enough data for satisfy content length header.'>\n",
      "Erreur lors du téléchargement de https://www.ncei.noaa.gov/data/global-summary-of-the-day/access/1964/40586099999.csv: Response payload is not completed: <ContentLengthError: 400, message='Not enough data for satisfy content length header.'>\n"
     ]
    },
    {
     "name": "stderr",
     "output_type": "stream",
     "text": [
      "Téléchargement des fichiers:  94%|█████████▎| 546066/582776 [1:30:27<07:09, 85.40it/s]"
     ]
    },
    {
     "name": "stdout",
     "output_type": "stream",
     "text": [
      "Erreur lors du téléchargement de https://www.ncei.noaa.gov/data/global-summary-of-the-day/access/2024/27106099999.csv: Response payload is not completed: <ContentLengthError: 400, message='Not enough data for satisfy content length header.'>\n",
      "Erreur lors du téléchargement de https://www.ncei.noaa.gov/data/global-summary-of-the-day/access/2023/71084099999.csv: Response payload is not completed: <ContentLengthError: 400, message='Not enough data for satisfy content length header.'>\n",
      "Erreur lors du téléchargement de https://www.ncei.noaa.gov/data/global-summary-of-the-day/access/1965/62338099999.csv: Response payload is not completed: <ContentLengthError: 400, message='Not enough data for satisfy content length header.'>\n",
      "Erreur lors du téléchargement de https://www.ncei.noaa.gov/data/global-summary-of-the-day/access/2005/15535099999.csv: Response payload is not completed: <ContentLengthError: 400, message='Not enough data for satisfy content length header.'>\n",
      "Erreur lors du téléchargement de https://www.ncei.noaa.gov/data/global-summary-of-the-day/access/2009/72510704780.csv: Response payload is not completed: <ContentLengthError: 400, message='Not enough data for satisfy content length header.'>\n",
      "Erreur lors du téléchargement de https://www.ncei.noaa.gov/data/global-summary-of-the-day/access/1985/40437099999.csv: Response payload is not completed: <ContentLengthError: 400, message='Not enough data for satisfy content length header.'>\n",
      "Erreur lors du téléchargement de https://www.ncei.noaa.gov/data/global-summary-of-the-day/access/2019/25648099999.csv: Response payload is not completed: <ContentLengthError: 400, message='Not enough data for satisfy content length header.'>\n"
     ]
    },
    {
     "name": "stderr",
     "output_type": "stream",
     "text": [
      "Téléchargement des fichiers: 100%|██████████| 582776/582776 [1:39:26<00:00, 97.68it/s] \n"
     ]
    },
    {
     "name": "stdout",
     "output_type": "stream",
     "text": [
      "Téléchargement terminé : 582747/582776 fichiers téléchargés avec succès.\n"
     ]
    }
   ],
   "source": [
    "# Appliquer nest_asyncio pour permettre l'exécution dans une boucle d'événements existante\n",
    "try:\n",
    "    nest_asyncio.apply()\n",
    "except RuntimeError:\n",
    "    pass  # La boucle d'événements est déjà appliquée\n",
    "\n",
    "# Créer un contexte SSL utilisant certifi\n",
    "ssl_context = ssl.create_default_context(cafile=certifi.where())\n",
    "\n",
    "async def fetch_file_urls(session, base_url, year):\n",
    "    \"\"\"\n",
    "    Récupère les URLs des fichiers CSV pour une année donnée depuis le site NOAA.\n",
    "    \"\"\"\n",
    "    year_url = f\"{base_url}{year}/\"\n",
    "    try:\n",
    "        async with session.get(year_url, ssl=ssl_context) as response:\n",
    "            if response.status != 200:\n",
    "                print(f\"Erreur lors de l'accès à {year_url}, statut {response.status}\")\n",
    "                return []\n",
    "            content = await response.text()\n",
    "    except Exception as e:\n",
    "        print(f\"Erreur lors de la récupération de {year_url} : {e}\")\n",
    "        return []\n",
    "\n",
    "    soup = BeautifulSoup(content, \"html.parser\")\n",
    "    files = [year_url + link.get(\"href\") for link in soup.find_all(\"a\") if link.get(\"href\").endswith(\".csv\")]\n",
    "    return files\n",
    "\n",
    "async def download_file(session, url, download_folder, semaphore):\n",
    "    \"\"\"\n",
    "    Télécharge un fichier CSV et le sauvegarde dans le dossier approprié.\n",
    "    \"\"\"\n",
    "    async with semaphore:\n",
    "        file_name = url.split(\"/\")[-1]\n",
    "        date_part = url.split(\"/\")[-2]\n",
    "        date_folder = os.path.join(download_folder, date_part)\n",
    "        os.makedirs(date_folder, exist_ok=True)\n",
    "        file_path = os.path.join(date_folder, file_name)\n",
    "\n",
    "        # Vérifier si le fichier existe déjà\n",
    "        if os.path.exists(file_path):\n",
    "            print(f\"Fichier déjà présent : {file_path}\")\n",
    "            return True  # Considérer comme téléchargé\n",
    "\n",
    "        # Télécharger le fichier s'il n'existe pas\n",
    "        try:\n",
    "            async with session.get(url, ssl=ssl_context) as response:\n",
    "                if response.status != 200:\n",
    "                    print(f\"Échec du téléchargement de {url}, statut {response.status}\")\n",
    "                    return False\n",
    "                content = await response.read()\n",
    "            async with aiofiles.open(file_path, 'wb') as f:\n",
    "                await f.write(content)\n",
    "            return True\n",
    "        except Exception as e:\n",
    "            print(f\"Erreur lors du téléchargement de {url}: {e}\")\n",
    "            return False\n",
    "\n",
    "async def download_all_files(file_urls, download_folder=\"data\", max_concurrent=200):\n",
    "    \"\"\"\n",
    "    Télécharge tous les fichiers CSV de manière asynchrone avec une limite de concurrence.\n",
    "    \"\"\"\n",
    "    os.makedirs(download_folder, exist_ok=True)\n",
    "    semaphore = asyncio.Semaphore(max_concurrent)\n",
    "    async with aiohttp.ClientSession() as session:\n",
    "        tasks = [\n",
    "            download_file(session, url, download_folder, semaphore)\n",
    "            for url in file_urls\n",
    "        ]\n",
    "        results = []\n",
    "        for f in tqdm(asyncio.as_completed(tasks), total=len(tasks), desc=\"Téléchargement des fichiers\"):\n",
    "            result = await f\n",
    "            results.append(result)\n",
    "    return results\n",
    "\n",
    "async def get_all_file_urls(base_url, years):\n",
    "    \"\"\"\n",
    "    Récupère toutes les URLs des fichiers CSV pour une liste d'années.\n",
    "    \"\"\"\n",
    "    file_urls = []\n",
    "    async with aiohttp.ClientSession() as session:\n",
    "        for year in tqdm(years, desc=\"Récupération des URLs par année\"):\n",
    "            urls = await fetch_file_urls(session, base_url, year)\n",
    "            file_urls.extend(urls)\n",
    "    return file_urls\n",
    "\n",
    "async def main():\n",
    "    base_url = \"https://www.ncei.noaa.gov/data/global-summary-of-the-day/access/\"\n",
    "    years = list(range(1929, 2025))  # Années de 1929 à 2024\n",
    "    download_folder = \"data\"\n",
    "\n",
    "    # Vérification préalable des fichiers existants\n",
    "    existing_folders = {str(year): os.path.exists(os.path.join(download_folder, str(year))) for year in years}\n",
    "\n",
    "    # Filtrer les années pour lesquelles les dossiers n'existent pas\n",
    "    years_to_download = [year for year in years if not existing_folders[str(year)]]\n",
    "\n",
    "    if not years_to_download:\n",
    "        print(\"Tous les dossiers pour les années spécifiées existent déjà.\")\n",
    "        return\n",
    "\n",
    "    # Récupérer toutes les URLs des fichiers pour les années manquantes\n",
    "    file_urls = await get_all_file_urls(base_url, years_to_download)\n",
    "\n",
    "    if not file_urls:\n",
    "        print(\"Aucun fichier CSV trouvé pour les années spécifiées.\")\n",
    "        return\n",
    "\n",
    "    print(f\"Nombre total de fichiers à télécharger : {len(file_urls)}\")\n",
    "\n",
    "    # Télécharger tous les fichiers de manière asynchrone\n",
    "    downloaded_files = await download_all_files(file_urls, download_folder=download_folder, max_concurrent=100)\n",
    "\n",
    "    # Corriger le comptage des succès\n",
    "    success = downloaded_files.count(True)\n",
    "    total = len(downloaded_files)\n",
    "    print(f\"Téléchargement terminé : {success}/{total} fichiers téléchargés avec succès.\")\n",
    "\n",
    "# Exécution du script\n",
    "if __name__ == \"__main__\":\n",
    "    asyncio.run(main())\n"
   ]
  },
  {
   "cell_type": "markdown",
   "id": "7ae76be1-5f6c-4530-aa1a-a97f27516701",
   "metadata": {},
   "source": [
    "### 1- la température moyenne mondiale pour 2020"
   ]
  },
  {
   "cell_type": "code",
   "execution_count": 10,
   "id": "6af3c05b-5112-4f9a-a709-4cd871cea5d5",
   "metadata": {},
   "outputs": [
    {
     "name": "stderr",
     "output_type": "stream",
     "text": [
      "Chargement des fichiers: 100%|██████████| 12298/12298 [00:47<00:00, 256.99fichier/s]\n"
     ]
    },
    {
     "name": "stdout",
     "output_type": "stream",
     "text": [
      "Température moyenne mondiale pour 2020 : 55.55°C\n"
     ]
    }
   ],
   "source": [
    "def calculate_avg_temp_from_absolute_path(absolute_path):\n",
    "    \"\"\"\n",
    "    Calcule la température moyenne mondiale pour les fichiers CSV dans un chemin absolu donné.\n",
    "    \"\"\"\n",
    "    all_data_frames = []\n",
    "\n",
    "    # Vérifier si le chemin absolu existe et charger les fichiers CSV\n",
    "    try:\n",
    "        files = [file for file in os.listdir(absolute_path) if file.endswith(\".csv\")]\n",
    "        total_files = len(files)\n",
    "\n",
    "        if total_files == 0:\n",
    "            print(f\"Aucun fichier CSV trouvé dans le chemin {absolute_path}.\")\n",
    "            return None\n",
    "\n",
    "        for file in tqdm(files, desc=\"Chargement des fichiers\", unit=\"fichier\"):\n",
    "            file_path = f\"{absolute_path}/{file}\"  # Construire le chemin complet\n",
    "            try:\n",
    "                df = pd.read_csv(file_path)\n",
    "                all_data_frames.append(df)\n",
    "            except Exception as e:\n",
    "                print(f\"Erreur lors du chargement de {file_path}: {e}\")\n",
    "    except FileNotFoundError:\n",
    "        print(f\"Le chemin {absolute_path} n'existe pas.\")\n",
    "        return None\n",
    "\n",
    "    # Concaténer tous les fichiers dans un seul DataFrame\n",
    "    if all_data_frames:\n",
    "        full_data = pd.concat(all_data_frames, ignore_index=True)\n",
    "        # Calculer la moyenne de la colonne 'TEMP'\n",
    "        if 'TEMP' in full_data.columns:\n",
    "            avg_temp = full_data['TEMP'].mean()\n",
    "            return avg_temp\n",
    "        else:\n",
    "            print(\"La colonne 'TEMP' est absente des données.\")\n",
    "            return None\n",
    "    else:\n",
    "        print(f\"Aucun fichier CSV trouvé dans le chemin {absolute_path}.\")\n",
    "        return None\n",
    "\n",
    "# Calculer la température moyenne pour 2020 en utilisant un chemin absolu\n",
    "absolute_path_2020 = \"/home/jovyan/climate_analyses/data/2020\"\n",
    "average_temp_2020 = calculate_avg_temp_from_absolute_path(absolute_path_2020)\n",
    "\n",
    "if average_temp_2020 is not None:\n",
    "    print(f\"Température moyenne mondiale pour 2020 : {average_temp_2020:.2f}°C\")\n",
    "else:\n",
    "    print(f\"Impossible de calculer la température moyenne pour 2020.\")"
   ]
  },
  {
   "cell_type": "markdown",
   "id": "20cea6fc-1ed3-44f4-b658-92d90dc46bf9",
   "metadata": {},
   "source": [
    "### 2 - les 5 stations ayant enregistré les températures moyennes les plus élevées, et où sont-elles situées "
   ]
  },
  {
   "cell_type": "code",
   "execution_count": 11,
   "id": "d0f94bf3-e347-462a-b246-99594ffd9435",
   "metadata": {},
   "outputs": [
    {
     "name": "stderr",
     "output_type": "stream",
     "text": [
      "Chargement des fichiers: 100%|██████████| 12298/12298 [00:33<00:00, 366.42fichier/s]\n"
     ]
    },
    {
     "name": "stdout",
     "output_type": "stream",
     "text": [
      "\n",
      "Les 5 stations ayant enregistré les températures moyennes les plus élevées :\n",
      "          STATION           NAME        TEMP\n",
      "4255  41250099999   SUNAYNAH, MU  103.071429\n",
      "4262  41262099999  FAHUD AUT, MU  101.528571\n",
      "4282  41304099999     MARMUL, MU  100.042857\n",
      "4254  41249099999    QUMAIRA, MU   98.642857\n",
      "4261  41257099999     SAMAIL, MU   98.471429\n"
     ]
    }
   ],
   "source": [
    "def top_5_hottest_stations(absolute_path):\n",
    "    \"\"\"\n",
    "    Trouve les 5 stations ayant enregistré les températures moyennes les plus élevées.\n",
    "    \"\"\"\n",
    "    all_data_frames = []\n",
    "\n",
    "    # Vérifier si le chemin absolu existe et charger les fichiers CSV\n",
    "    try:\n",
    "        files = [file for file in os.listdir(absolute_path) if file.endswith(\".csv\")]\n",
    "        if not files:\n",
    "            print(f\"Aucun fichier CSV trouvé dans le chemin {absolute_path}.\")\n",
    "            return None\n",
    "\n",
    "        for file in tqdm(files, desc=\"Chargement des fichiers\", unit=\"fichier\"):\n",
    "            file_path = f\"{absolute_path}/{file}\"  # Construire le chemin complet\n",
    "            try:\n",
    "                df = pd.read_csv(file_path)\n",
    "                all_data_frames.append(df)\n",
    "            except Exception as e:\n",
    "                print(f\"Erreur lors du chargement de {file_path}: {e}\")\n",
    "    except FileNotFoundError:\n",
    "        print(f\"Le chemin {absolute_path} n'existe pas.\")\n",
    "        return None\n",
    "\n",
    "    # Concaténer tous les fichiers dans un seul DataFrame\n",
    "    if all_data_frames:\n",
    "        full_data = pd.concat(all_data_frames, ignore_index=True)\n",
    "\n",
    "        # Vérifier si les colonnes nécessaires existent\n",
    "        if 'TEMP' in full_data.columns and 'STATION' in full_data.columns and 'NAME' in full_data.columns:\n",
    "            # Calculer la température moyenne par station\n",
    "            grouped_data = (\n",
    "                full_data.groupby(['STATION', 'NAME'])['TEMP']\n",
    "                .mean()\n",
    "                .reset_index()\n",
    "                .sort_values(by='TEMP', ascending=False)\n",
    "                .head(5)  # Garder les 5 stations les plus chaudes\n",
    "            )\n",
    "            return grouped_data\n",
    "        else:\n",
    "            print(\"Les colonnes nécessaires ('TEMP', 'STATION', 'NAME') sont absentes des données.\")\n",
    "            return None\n",
    "    else:\n",
    "        print(f\"Aucun fichier CSV trouvé dans le chemin {absolute_path}.\")\n",
    "        return None\n",
    "\n",
    "# Appeler la fonction pour trouver les 5 stations les plus chaudes\n",
    "top_stations_2020 = top_5_hottest_stations(absolute_path_2020)\n",
    "\n",
    "if top_stations_2020 is not None:\n",
    "    print(\"\\nLes 5 stations ayant enregistré les températures moyennes les plus élevées :\")\n",
    "    print(top_stations_2020)\n",
    "else:\n",
    "    print(\"Impossible de déterminer les 5 stations les plus chaudes.\")\n"
   ]
  },
  {
   "cell_type": "markdown",
   "id": "8d20587a-ecaf-4242-93e7-40ae638f4959",
   "metadata": {},
   "source": [
    "### 3. les précipitations mondiales ont-elles changé au cours des 50 dernières années"
   ]
  },
  {
   "cell_type": "code",
   "execution_count": 15,
   "id": "e74d18b3-349f-44ec-8b03-a5bf0ea01a99",
   "metadata": {},
   "outputs": [
    {
     "name": "stderr",
     "output_type": "stream",
     "text": [
      "Traitement par année: 100%|██████████| 51/51 [38:13<00:00, 44.96s/it]\n"
     ]
    },
    {
     "name": "stdout",
     "output_type": "stream",
     "text": [
      "Sauvegarde des résultats dans le fichier cache : precipitation_cache.csv\n",
      "\n",
      "Précipitations moyennes annuelles (1974-2024) :\n",
      "    YEAR   AVG_PRCP\n",
      "0   1974   9.435643\n",
      "1   1975  10.260407\n",
      "2   1976   8.947381\n",
      "3   1977   7.854758\n",
      "4   1978   7.863450\n",
      "5   1979   6.082201\n",
      "6   1980   5.614162\n",
      "7   1981   5.725428\n",
      "8   1982   4.709797\n",
      "9   1983   4.231729\n",
      "10  1984   4.187880\n",
      "11  1985   4.357146\n",
      "12  1986   4.552233\n",
      "13  1987   4.485590\n",
      "14  1988   4.402140\n",
      "15  1989   5.036714\n",
      "16  1990   5.763479\n",
      "17  1991   5.693645\n",
      "18  1992   5.787002\n",
      "19  1993   5.235889\n",
      "20  1994   4.866025\n",
      "21  1995   3.775562\n",
      "22  1996   4.382370\n",
      "23  1997   2.206427\n",
      "24  1998   2.486183\n",
      "25  1999  10.530504\n",
      "26  2000   8.851444\n",
      "27  2001   8.777935\n",
      "28  2002   7.691012\n",
      "29  2003   6.058540\n",
      "30  2004   6.030815\n",
      "31  2005   8.402943\n",
      "32  2006   9.393119\n",
      "33  2007   9.471414\n",
      "34  2008   9.547894\n",
      "35  2009   9.754092\n",
      "36  2010   9.715870\n",
      "37  2011   9.849283\n",
      "38  2012   9.184002\n",
      "39  2013   8.492927\n",
      "40  2014   8.217005\n",
      "41  2015   7.564388\n",
      "42  2016   7.622040\n",
      "43  2017   7.506085\n",
      "44  2018   7.647470\n",
      "45  2019   7.776989\n",
      "46  2020   7.495220\n",
      "47  2021   7.616859\n",
      "48  2022   7.814115\n",
      "49  2023   8.172138\n",
      "50  2024   8.035808\n"
     ]
    },
    {
     "data": {
      "image/png": "[encoded data removed]",
      "text/plain": [
       "<Figure size 1200x600 with 1 Axes>"
      ]
     },
     "metadata": {},
     "output_type": "display_data"
    },
    {
     "name": "stdout",
     "output_type": "stream",
     "text": [
      "\n",
      "Analyse terminée avec succès.\n"
     ]
    }
   ],
   "source": [
    "def analyze_precipitation_change_optimized(data_path, start_year, end_year, cache_file=\"precipitation_cache.csv\"):\n",
    "    \"\"\"\n",
    "    Analyse les changements des précipitations mondiales au cours des 50 dernières années de manière optimisée.\n",
    "    Utilise un fichier cache pour éviter les recalculs si les données sont déjà disponibles.\n",
    "    \"\"\"\n",
    "    # Vérifier si les données sont déjà calculées et chargées\n",
    "    if os.path.exists(cache_file):\n",
    "        print(f\"Chargement des données calculées à partir du cache : {cache_file}\")\n",
    "        return pd.read_csv(cache_file)\n",
    "    \n",
    "    annual_precipitation = {}\n",
    "\n",
    "    # Charger et analyser les fichiers pour chaque année\n",
    "    for year in tqdm(range(start_year, end_year + 1), desc=\"Traitement par année\"):\n",
    "        year_path = os.path.join(data_path, str(year))\n",
    "        if not os.path.exists(year_path):\n",
    "            print(f\"Dossier manquant pour l'année {year}. Ignoré.\")\n",
    "            continue\n",
    "        \n",
    "        total_precipitation = 0\n",
    "        count = 0\n",
    "\n",
    "        # Charger tous les fichiers CSV de l'année\n",
    "        for file in os.listdir(year_path):\n",
    "            if file.endswith(\".csv\"):\n",
    "                file_path = os.path.join(year_path, file)\n",
    "                try:\n",
    "                    # Charger en mode \"chunksize\" pour économiser la mémoire\n",
    "                    for chunk in pd.read_csv(file_path, chunksize=10000):\n",
    "                        # Filtrer les données aberrantes et manquantes\n",
    "                        chunk = chunk[chunk[\"PRCP\"] >= 0]  # Supprimer les valeurs négatives\n",
    "                        chunk.dropna(subset=[\"PRCP\"], inplace=True)\n",
    "\n",
    "                        # Ajouter les précipitations au total annuel\n",
    "                        total_precipitation += chunk[\"PRCP\"].sum()\n",
    "                        count += len(chunk)\n",
    "                except Exception as e:\n",
    "                    print(f\"Erreur lors du chargement de {file_path}: {e}\")\n",
    "\n",
    "        # Calculer la moyenne annuelle si des données existent\n",
    "        if count > 0:\n",
    "            annual_precipitation[year] = total_precipitation / count\n",
    "        else:\n",
    "            annual_precipitation[year] = None\n",
    "\n",
    "    # Transformer le résultat en DataFrame\n",
    "    annual_precipitation_df = pd.DataFrame.from_dict(annual_precipitation, orient=\"index\", columns=[\"AVG_PRCP\"])\n",
    "    annual_precipitation_df.index.name = \"YEAR\"\n",
    "    annual_precipitation_df.reset_index(inplace=True)\n",
    "\n",
    "    # Sauvegarder les résultats dans le fichier cache\n",
    "    print(f\"Sauvegarde des résultats dans le fichier cache : {cache_file}\")\n",
    "    annual_precipitation_df.to_csv(cache_file, index=False)\n",
    "\n",
    "    # Afficher les résultats et tracer un graphique\n",
    "    print(\"\\nPrécipitations moyennes annuelles (1974-2024) :\")\n",
    "    print(annual_precipitation_df)\n",
    "\n",
    "    plt.figure(figsize=(12, 6))\n",
    "    plt.plot(\n",
    "        annual_precipitation_df[\"YEAR\"],\n",
    "        annual_precipitation_df[\"AVG_PRCP\"],\n",
    "        marker=\"o\",\n",
    "        label=\"Précipitations Moyennes\"\n",
    "    )\n",
    "    plt.title(\"Évolution des précipitations mondiales (1974-2024)\")\n",
    "    plt.xlabel(\"Année\")\n",
    "    plt.ylabel(\"Précipitations Moyennes (mm)\")\n",
    "    plt.grid(True)\n",
    "    plt.legend()\n",
    "    plt.show()\n",
    "\n",
    "    return annual_precipitation_df\n",
    "\n",
    "# Chemin des données et plage d'années\n",
    "data_path = \"/home/jovyan/climate_analyses/data\"\n",
    "start_year = 1974\n",
    "end_year = 2024\n",
    "\n",
    "# Fichier cache\n",
    "cache_file = \"precipitation_cache.csv\"\n",
    "\n",
    "# Analyser les précipitations mondiales de manière optimisée\n",
    "precipitation_trends = analyze_precipitation_change_optimized(data_path, start_year, end_year, cache_file)\n",
    "\n",
    "if precipitation_trends is not None:\n",
    "    print(\"\\nAnalyse terminée avec succès.\")\n",
    "else:\n",
    "    print(\"\\nAnalyse échouée.\")\n"
   ]
  },
  {
   "cell_type": "markdown",
   "id": "f583ead3",
   "metadata": {},
   "source": [
    "---\n",
    "## Requêtes avancées\n"
   ]
  },
  {
   "cell_type": "code",
   "execution_count": null,
   "id": "432c9faf",
   "metadata": {},
   "outputs": [],
   "source": [
    "# Enregistrer comme vue SQL temporaire et exécuter des requêtes\n",
    "# df_transformed.createOrReplaceTempView('climate')\n",
    "# spark.sql('SELECT ...')"
   ]
  },
  {
   "cell_type": "markdown",
   "id": "3c008dab",
   "metadata": {},
   "source": [
    "## **Questions 5 :**\n",
    "1. Quelle a été l'année la plus froide enregistrée, et quelle était la température moyenne ?\n",
    "2. Quelle station a contribué avec le plus grand nombre d'enregistrements ?\n",
    "3. Fournissez la requête SQL utilisée pour trouver les réponses ci-dessus."
   ]
  },
  {
   "cell_type": "markdown",
   "id": "f8f4d070-d78a-4370-89ec-75c2f4b6cdb4",
   "metadata": {},
   "source": [
    "## Réponse aux questions 5"
   ]
  },
  {
   "cell_type": "markdown",
   "id": "3b0386db-e321-44e7-8580-596a5f86a6fe",
   "metadata": {},
   "source": [
    "### 1. L'année la plus froid"
   ]
  },
  {
   "cell_type": "code",
   "execution_count": 20,
   "id": "75455029-0abd-42af-b280-114a3a31a266",
   "metadata": {},
   "outputs": [
    {
     "name": "stderr",
     "output_type": "stream",
     "text": [
      "Traitement par année: 100%|██████████| 96/96 [52:02<00:00, 32.52s/it]"
     ]
    },
    {
     "name": "stdout",
     "output_type": "stream",
     "text": [
      "\n",
      "Année la plus froide : 1971 avec une température moyenne de 40.03°C\n",
      "\n",
      "Analyse terminée avec succès.\n"
     ]
    },
    {
     "name": "stderr",
     "output_type": "stream",
     "text": [
      "\n"
     ]
    }
   ],
   "source": [
    "import gc\n",
    "\n",
    "def process_year_files(year_path, year):\n",
    "    \"\"\"\n",
    "    Traite tous les fichiers CSV d'une année donnée pour calculer la moyenne des températures.\n",
    "    \"\"\"\n",
    "    total_temp = 0\n",
    "    count_temp = 0\n",
    "\n",
    "    # Vérifier si le dossier de l'année existe\n",
    "    if not os.path.exists(year_path):\n",
    "        print(f\"Dossier manquant pour l'année {year}. Ignoré.\")\n",
    "        return None, None\n",
    "\n",
    "    # Parcourir tous les fichiers de l'année\n",
    "    for file in os.listdir(year_path):\n",
    "        if file.endswith(\".csv\"):\n",
    "            file_path = os.path.join(year_path, file)\n",
    "            try:\n",
    "                # Lire en mode chunksize pour réduire la mémoire utilisée\n",
    "                for chunk in pd.read_csv(file_path, chunksize=10000):\n",
    "                    # Supprimer les valeurs manquantes ou aberrantes\n",
    "                    chunk = chunk.dropna(subset=[\"TEMP\"])\n",
    "                    total_temp += chunk[\"TEMP\"].sum()\n",
    "                    count_temp += len(chunk)\n",
    "            except Exception as e:\n",
    "                print(f\"Erreur lors du chargement de {file_path}: {e}\")\n",
    "\n",
    "    return total_temp, count_temp\n",
    "\n",
    "\n",
    "def get_coldest_year_optimized(data_path, start_year, end_year):\n",
    "    \"\"\"\n",
    "    Identifie l'année la plus froide et sa température moyenne de manière optimisée.\n",
    "    \"\"\"\n",
    "    year_temp_totals = {}\n",
    "\n",
    "    for year in tqdm(range(start_year, end_year + 1), desc=\"Traitement par année\"):\n",
    "        year_path = os.path.join(data_path, str(year))\n",
    "        total_temp, count_temp = process_year_files(year_path, year)\n",
    "\n",
    "        if total_temp is not None and count_temp > 0:\n",
    "            year_temp_totals[year] = total_temp / count_temp  # Calculer la moyenne pour l'année\n",
    "\n",
    "        # Libérer explicitement la mémoire après chaque année\n",
    "        gc.collect()\n",
    "\n",
    "    if not year_temp_totals:\n",
    "        print(\"Aucune donnée disponible pour l'analyse.\")\n",
    "        return None\n",
    "\n",
    "    # Trouver l'année avec la température moyenne la plus basse\n",
    "    coldest_year = min(year_temp_totals, key=year_temp_totals.get)\n",
    "    coldest_temp = year_temp_totals[coldest_year]\n",
    "\n",
    "    print(f\"\\nAnnée la plus froide : {coldest_year} avec une température moyenne de {coldest_temp:.2f}°C\")\n",
    "    return coldest_year, coldest_temp\n",
    "\n",
    "\n",
    "# Chemin des données et plage d'années\n",
    "data_path = \"data\"\n",
    "start_year = 1929\n",
    "end_year = 2024\n",
    "\n",
    "# Identifier l'année la plus froide\n",
    "coldest_year, coldest_temp = get_coldest_year_optimized(data_path, start_year, end_year)\n",
    "\n",
    "if coldest_year is not None:\n",
    "    print(\"\\nAnalyse terminée avec succès.\")\n",
    "else:\n",
    "    print(\"\\nAnalyse échouée.\")\n",
    "\n"
   ]
  },
  {
   "cell_type": "markdown",
   "id": "16a46d68-b9c6-44d8-a2c8-ab1a7b88600e",
   "metadata": {},
   "source": [
    "### 2. Station avec le plus grand nombre d'enregistrements de l'année la plus froide"
   ]
  },
  {
   "cell_type": "code",
   "execution_count": 23,
   "id": "ae8169c8-e50a-4df7-910a-720ba2d57ad8",
   "metadata": {},
   "outputs": [
    {
     "name": "stderr",
     "output_type": "stream",
     "text": [
      "Traitement par année: 100%|██████████| 96/96 [56:41<00:00, 35.43s/it] \n"
     ]
    },
    {
     "name": "stdout",
     "output_type": "stream",
     "text": [
      "\n",
      "Année la plus froide : 1971 avec une température moyenne de 40.03°C\n",
      "\n",
      "Station avec le plus grand nombre d'enregistrements en 1971 :\n",
      "Station ID : 72386523112, Nombre d'enregistrements : 365\n",
      "\n",
      "Analyse terminée avec succès.\n"
     ]
    }
   ],
   "source": [
    "def process_year_files_for_station(year_path):\n",
    "    \"\"\"\n",
    "    Traite les fichiers CSV d'une année donnée pour compter les enregistrements par station.\n",
    "    \"\"\"\n",
    "    station_counts = {}\n",
    "\n",
    "    # Vérifier si le dossier de l'année existe\n",
    "    if not os.path.exists(year_path):\n",
    "        print(f\"Dossier manquant pour l'année {year}. Ignoré.\")\n",
    "        return None\n",
    "\n",
    "    # Parcourir tous les fichiers de l'année\n",
    "    for file in os.listdir(year_path):\n",
    "        if file.endswith(\".csv\"):\n",
    "            file_path = os.path.join(year_path, file)\n",
    "            try:\n",
    "                # Lire en mode chunksize pour réduire la mémoire utilisée\n",
    "                for chunk in pd.read_csv(file_path, chunksize=10000, usecols=[\"STATION\"]):\n",
    "                    # Compter les occurrences par station dans le chunk\n",
    "                    station_chunk_counts = chunk[\"STATION\"].value_counts().to_dict()\n",
    "\n",
    "                    # Ajouter les comptes du chunk aux totaux globaux\n",
    "                    for station, count in station_chunk_counts.items():\n",
    "                        station_counts[station] = station_counts.get(station, 0) + count\n",
    "\n",
    "                    # Libérer explicitement la mémoire utilisée par le chunk\n",
    "                    del chunk\n",
    "                    gc.collect()\n",
    "\n",
    "            except Exception as e:\n",
    "                print(f\"Erreur lors du chargement de {file_path}: {e}\")\n",
    "\n",
    "    return station_counts\n",
    "\n",
    "\n",
    "def get_top_station_for_coldest_year(data_path, coldest_year):\n",
    "    \"\"\"\n",
    "    Identifie la station avec le plus grand nombre d'enregistrements pour l'année la plus froide.\n",
    "    \"\"\"\n",
    "    year_path = os.path.join(data_path, str(coldest_year))\n",
    "    station_counts = process_year_files_for_station(year_path)\n",
    "\n",
    "    if not station_counts:\n",
    "        print(f\"Aucune donnée disponible pour l'année {coldest_year}.\")\n",
    "        return None\n",
    "\n",
    "    # Identifier la station avec le plus grand nombre d'enregistrements\n",
    "    top_station = max(station_counts, key=station_counts.get)\n",
    "    top_station_count = station_counts[top_station]\n",
    "\n",
    "    print(f\"\\nStation avec le plus grand nombre d'enregistrements en {coldest_year} :\")\n",
    "    print(f\"Station ID : {top_station}, Nombre d'enregistrements : {top_station_count}\")\n",
    "\n",
    "    return top_station, top_station_count\n",
    "\n",
    "\n",
    "# Chemin des données et plage d'années\n",
    "data_path = \"data\"\n",
    "start_year = 1929\n",
    "end_year = 2024\n",
    "\n",
    "# Identifier l'année la plus froide\n",
    "coldest_year, coldest_temp = get_coldest_year_optimized(data_path, start_year, end_year)\n",
    "\n",
    "if coldest_year is not None:\n",
    "    # Utiliser l'année la plus froide pour trouver la station avec le plus grand nombre d'enregistrements\n",
    "    top_station, top_station_count = get_top_station_for_coldest_year(data_path, coldest_year)\n",
    "\n",
    "    print(\"\\nAnalyse terminée avec succès.\")\n",
    "else:\n",
    "    print(\"\\nAnalyse échouée.\")\n"
   ]
  },
  {
   "cell_type": "markdown",
   "id": "a4add284-b97d-482f-8097-22d478c8f7c7",
   "metadata": {},
   "source": [
    "### 3. Requetes utilisés"
   ]
  },
  {
   "cell_type": "code",
   "execution_count": 25,
   "id": "61525670-d80e-4672-a42a-a3aec0d6506e",
   "metadata": {},
   "outputs": [
    {
     "ename": "SyntaxError",
     "evalue": "invalid syntax (861965273.py, line 4)",
     "output_type": "error",
     "traceback": [
      "\u001b[0;36m  Cell \u001b[0;32mIn[25], line 4\u001b[0;36m\u001b[0m\n\u001b[0;31m    SELECT YEAR, AVG(TEMP) AS AVG_TEMP\u001b[0m\n\u001b[0m           ^\u001b[0m\n\u001b[0;31mSyntaxError\u001b[0m\u001b[0;31m:\u001b[0m invalid syntax\n"
     ]
    }
   ],
   "source": [
    "# Cas ou nos données sont stockés dans une database\n",
    "\n",
    "# 1. Requetes SQL pour Trouver l'année la plus froide \n",
    "SELECT YEAR, AVG(TEMP) AS AVG_TEMP\n",
    "FROM weather_data\n",
    "WHERE TEMP IS NOT NULL\n",
    "GROUP BY YEAR\n",
    "ORDER BY AVG_TEMP ASC\n",
    "LIMIT 1;\n",
    "\n",
    "# 2.  Trouver la station avec le plus grand nombre d'enregistrements pour l'année la plus froide\n",
    "SELECT STATION, COUNT(*) AS RECORD_COUNT\n",
    "FROM weather_data\n",
    "WHERE YEAR = <coldest_year>\n",
    "GROUP BY STATION\n",
    "ORDER BY RECORD_COUNT DESC\n",
    "LIMIT 1;\n"
   ]
  },
  {
   "cell_type": "markdown",
   "id": "377309b5",
   "metadata": {},
   "source": [
    "---\n",
    "## Visualisation\n"
   ]
  },
  {
   "cell_type": "code",
   "execution_count": null,
   "id": "bf473b65",
   "metadata": {},
   "outputs": [],
   "source": [
    "# Exporter les données vers Pandas et créer des visualisations\n",
    "# import matplotlib.pyplot as plt\n",
    "# df_pandas = avg_temp_by_year.toPandas()\n",
    "# plt.plot(df_pandas['year'], df_pandas['avg_temperature'])"
   ]
  },
  {
   "cell_type": "markdown",
   "id": "65291c69",
   "metadata": {},
   "source": [
    "## **Questions 6 :**\n",
    "1. Quelles tendances sont visibles dans le graphique des températures moyennes mondiales ?\n",
    "2. Quelles anomalies sont présentes dans l'histogramme des précipitations ?\n",
    "3. Quelles analyses supplémentaires recommanderiez-vous en fonction des visualisations ?"
   ]
  },
  {
   "cell_type": "markdown",
   "id": "f3f77c66-e12d-483d-a693-fabc1d735f77",
   "metadata": {},
   "source": [
    "### 1. tendances sont visibles dans le graphique des températures moyennes mondiales"
   ]
  },
  {
   "cell_type": "code",
   "execution_count": 26,
   "id": "6a029bd1-cbe2-45fb-9172-fb12df32fd1a",
   "metadata": {},
   "outputs": [
    {
     "name": "stderr",
     "output_type": "stream",
     "text": [
      "Traitement des fichiers pour 2020: 100%|██████████| 12298/12298 [17:49<00:00, 11.50it/s] \n"
     ]
    },
    {
     "data": {
      "image/png": "[encoded data removed]",
      "text/plain": [
       "<Figure size 1200x600 with 1 Axes>"
      ]
     },
     "metadata": {},
     "output_type": "display_data"
    },
    {
     "data": {
      "image/png": "[encoded data removed]",
      "text/plain": [
       "<Figure size 1200x600 with 1 Axes>"
      ]
     },
     "metadata": {},
     "output_type": "display_data"
    },
    {
     "data": {
      "image/png": "[encoded data removed]",
      "text/plain": [
       "<Figure size 1200x600 with 1 Axes>"
      ]
     },
     "metadata": {},
     "output_type": "display_data"
    },
    {
     "data": {
      "image/png": "[encoded data removed]",
      "text/plain": [
       "<Figure size 800x800 with 1 Axes>"
      ]
     },
     "metadata": {},
     "output_type": "display_data"
    },
    {
     "name": "stdout",
     "output_type": "stream",
     "text": [
      "\n",
      "Analyse terminée avec succès.\n"
     ]
    }
   ],
   "source": [
    "from tqdm import tqdm\n",
    "\n",
    "\n",
    "def process_year_for_temp_trends(data_path, year):\n",
    "    \"\"\"\n",
    "    Traite les fichiers CSV d'une année donnée pour calculer les tendances des températures mensuelles.\n",
    "    \"\"\"\n",
    "    monthly_temps = {month: {\"total_temp\": 0, \"count\": 0} for month in range(1, 13)}\n",
    "\n",
    "    year_path = os.path.join(data_path, str(year))\n",
    "    if not os.path.exists(year_path):\n",
    "        print(f\"Dossier manquant pour l'année {year}.\")\n",
    "        return None\n",
    "\n",
    "    for file in tqdm(os.listdir(year_path), desc=f\"Traitement des fichiers pour {year}\"):\n",
    "        if file.endswith(\".csv\"):\n",
    "            file_path = os.path.join(year_path, file)\n",
    "            try:\n",
    "                for chunk in pd.read_csv(file_path, chunksize=10000, usecols=[\"DATE\", \"TEMP\"]):\n",
    "                    chunk = chunk.dropna(subset=[\"TEMP\"])  # Supprimer les valeurs manquantes\n",
    "                    chunk[\"MONTH\"] = pd.to_datetime(chunk[\"DATE\"]).dt.month  # Extraire le mois\n",
    "\n",
    "                    # Ajouter les températures par mois\n",
    "                    for month, group in chunk.groupby(\"MONTH\"):\n",
    "                        monthly_temps[month][\"total_temp\"] += group[\"TEMP\"].sum()\n",
    "                        monthly_temps[month][\"count\"] += len(group)\n",
    "\n",
    "                    del chunk\n",
    "                    gc.collect()\n",
    "\n",
    "            except Exception as e:\n",
    "                print(f\"Erreur lors du traitement de {file_path}: {e}\")\n",
    "\n",
    "    # Calculer les moyennes mensuelles\n",
    "    avg_monthly_temps = {month: (data[\"total_temp\"] / data[\"count\"] if data[\"count\"] > 0 else None)\n",
    "                         for month, data in monthly_temps.items()}\n",
    "\n",
    "    return avg_monthly_temps\n",
    "\n",
    "\n",
    "def plot_multiple_graphs(year, avg_monthly_temps):\n",
    "    \"\"\"\n",
    "    Trace différents graphiques pour les tendances des températures moyennes mensuelles.\n",
    "    \"\"\"\n",
    "    months = list(avg_monthly_temps.keys())\n",
    "    temps = list(avg_monthly_temps.values())\n",
    "\n",
    "    # Graphique Linéaire\n",
    "    plt.figure(figsize=(12, 6))\n",
    "    plt.plot(months, temps, marker=\"o\", label=\"Température Moyenne\", color=\"blue\")\n",
    "    plt.title(f\"Tendances des Températures Moyennes Mondiales (Linéaire) en {year}\")\n",
    "    plt.xlabel(\"Mois\")\n",
    "    plt.ylabel(\"Température Moyenne (°C)\")\n",
    "    plt.xticks(months)\n",
    "    plt.grid(axis=\"y\", linestyle=\"--\", alpha=0.7)\n",
    "    plt.legend()\n",
    "    plt.show()\n",
    "\n",
    "    # Graphique en Barres\n",
    "    plt.figure(figsize=(12, 6))\n",
    "    plt.bar(months, temps, color=\"orange\", alpha=0.7, label=\"Température Moyenne\")\n",
    "    plt.title(f\"Tendances des Températures Moyennes Mondiales (Barres) en {year}\")\n",
    "    plt.xlabel(\"Mois\")\n",
    "    plt.ylabel(\"Température Moyenne (°C)\")\n",
    "    plt.xticks(months)\n",
    "    plt.grid(axis=\"y\", linestyle=\"--\", alpha=0.7)\n",
    "    plt.legend()\n",
    "    plt.show()\n",
    "\n",
    "    # Graphique en Nuage de Points\n",
    "    plt.figure(figsize=(12, 6))\n",
    "    plt.scatter(months, temps, color=\"green\", label=\"Température Moyenne\")\n",
    "    plt.title(f\"Tendances des Températures Moyennes Mondiales (Nuage de Points) en {year}\")\n",
    "    plt.xlabel(\"Mois\")\n",
    "    plt.ylabel(\"Température Moyenne (°C)\")\n",
    "    plt.xticks(months)\n",
    "    plt.grid(axis=\"y\", linestyle=\"--\", alpha=0.7)\n",
    "    plt.legend()\n",
    "    plt.show()\n",
    "\n",
    "    # Graphique en Secteurs\n",
    "    plt.figure(figsize=(8, 8))\n",
    "    plt.pie(\n",
    "        temps,\n",
    "        labels=[f\"Mois {month}\" for month in months],\n",
    "        autopct=\"%1.1f%%\",\n",
    "        startangle=90,\n",
    "        colors=plt.cm.tab20c.colors[:12],\n",
    "    )\n",
    "    plt.title(f\"Répartition des Températures Moyennes Mensuelles (Secteurs) en {year}\")\n",
    "    plt.show()\n",
    "\n",
    "\n",
    "# Chemin des données et année à analyser\n",
    "data_path = \"/home/jovyan/climate_analyses/data\"\n",
    "year_to_analyze = 2020\n",
    "\n",
    "# Traiter les données pour 2020\n",
    "avg_monthly_temps_2020 = process_year_for_temp_trends(data_path, year_to_analyze)\n",
    "\n",
    "if avg_monthly_temps_2020:\n",
    "    # Tracer les graphiques pour les tendances des températures moyennes\n",
    "    plot_multiple_graphs(year_to_analyze, avg_monthly_temps_2020)\n",
    "    print(\"\\nAnalyse terminée avec succès.\")\n",
    "else:\n",
    "    print(\"\\nAucune donnée disponible pour l'analyse.\")\n"
   ]
  },
  {
   "cell_type": "markdown",
   "id": "26f5d794-70a6-486c-b394-b0c577d8b5df",
   "metadata": {},
   "source": [
    "### 2. Analyse anomalies "
   ]
  },
  {
   "cell_type": "code",
   "execution_count": 27,
   "id": "5dfabb83-9f50-4430-845b-0bf2fc87771d",
   "metadata": {},
   "outputs": [
    {
     "name": "stdout",
     "output_type": "stream",
     "text": [
      "\n",
      "Années avec des sauts importants dans les précipitations :\n",
      "    YEAR   AVG_PRCP      DIFF\n",
      "5   1979   6.082201 -1.781249\n",
      "23  1997   2.206427 -2.175942\n",
      "25  1999  10.530504  8.044321\n",
      "26  2000   8.851444 -1.679060\n",
      "29  2003   6.058540 -1.632472\n",
      "31  2005   8.402943  2.372128\n"
     ]
    },
    {
     "data": {
      "image/png": "[encoded data removed]",
      "text/plain": [
       "<Figure size 1200x600 with 1 Axes>"
      ]
     },
     "metadata": {},
     "output_type": "display_data"
    }
   ],
   "source": [
    "def analyze_anomalies(data_frame):\n",
    "    \"\"\"\n",
    "    Analyse les anomalies dans les précipitations moyennes annuelles.\n",
    "    \"\"\"\n",
    "    # Identification des années avec des sauts importants\n",
    "    data_frame[\"DIFF\"] = data_frame[\"AVG_PRCP\"].diff()  # Différence entre années consécutives\n",
    "    anomalies = data_frame[abs(data_frame[\"DIFF\"]) > data_frame[\"DIFF\"].std()]  # Seuil basé sur l'écart-type\n",
    "\n",
    "    print(\"\\nAnnées avec des sauts importants dans les précipitations :\")\n",
    "    print(anomalies[[\"YEAR\", \"AVG_PRCP\", \"DIFF\"]])\n",
    "\n",
    "    # Tracer les anomalies avec des points rouges\n",
    "    plt.figure(figsize=(12, 6))\n",
    "    plt.plot(\n",
    "        data_frame[\"YEAR\"],\n",
    "        data_frame[\"AVG_PRCP\"],\n",
    "        marker=\"o\",\n",
    "        label=\"Précipitations Moyennes\"\n",
    "    )\n",
    "    plt.scatter(\n",
    "        anomalies[\"YEAR\"],\n",
    "        anomalies[\"AVG_PRCP\"],\n",
    "        color=\"red\",\n",
    "        label=\"Anomalies\",\n",
    "        zorder=5\n",
    "    )\n",
    "    plt.title(\"Anomalies dans les précipitations moyennes annuelles (1974-2024)\")\n",
    "    plt.xlabel(\"Année\")\n",
    "    plt.ylabel(\"Précipitations Moyennes (mm)\")\n",
    "    plt.grid(True)\n",
    "    plt.legend()\n",
    "    plt.show()\n",
    "\n",
    "# Appeler la fonction avec les tendances des précipitations\n",
    "analyze_anomalies(precipitation_trends)\n"
   ]
  },
  {
   "cell_type": "code",
   "execution_count": null,
   "id": "7c61b73e-db10-4270-85e8-2a59557d8284",
   "metadata": {},
   "outputs": [],
   "source": []
  },
  {
   "cell_type": "markdown",
   "id": "147bd6f6",
   "metadata": {},
   "source": [
    "---\n",
    "## Optimisation et réflexion\n"
   ]
  },
  {
   "cell_type": "code",
   "execution_count": null,
   "id": "e8cbf1fb",
   "metadata": {},
   "outputs": [],
   "source": [
    "# Appliquer le cache et le repartitionnement\n",
    "# df_transformed.cache()\n",
    "# df_repartitioned = df_transformed.repartition(4)"
   ]
  },
  {
   "cell_type": "markdown",
   "id": "4eda5aa6",
   "metadata": {},
   "source": [
    "**Questions :**\n",
    "1. Comment la mise en cache a-t-elle amélioré les performances de vos requêtes ?\n",
    "2. Comment le repartitionnement a-t-il affecté le temps d'exécution des tâches ?\n",
    "3. Résumez l'information la plus surprenante que vous avez dérivée du jeu de données."
   ]
  }
 ],
 "metadata": {
  "kernelspec": {
   "display_name": "Python 3 (ipykernel)",
   "language": "python",
   "name": "python3"
  },
  "language_info": {
   "codemirror_mode": {
    "name": "ipython",
    "version": 3
   },
   "file_extension": ".py",
   "mimetype": "text/x-python",
   "name": "python",
   "nbconvert_exporter": "python",
   "pygments_lexer": "ipython3",
   "version": "3.11.6"
  }
 },
 "nbformat": 4,
 "nbformat_minor": 5
}
